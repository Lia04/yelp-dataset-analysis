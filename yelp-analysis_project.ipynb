{
 "cells": [
  {
   "cell_type": "code",
   "execution_count": 95,
   "id": "cb7666c8",
   "metadata": {},
   "outputs": [],
   "source": [
    "import os\n",
    "# print(os.getcwd())\n",
    "os.chdir('/home/jovyan/yelp_dataset')\n",
    "# print(os.getcwd())"
   ]
  },
  {
   "cell_type": "code",
   "execution_count": 2,
   "id": "5cd8fa7b",
   "metadata": {},
   "outputs": [
    {
     "name": "stdout",
     "output_type": "stream",
     "text": [
      "['Dataset_User_Agreement.pdf', 'yelp_academic_dataset_business.json', 'yelp_academic_dataset_checkin.json', 'yelp_academic_dataset_review.json', 'yelp_academic_dataset_tip.json', 'yelp_academic_dataset_user.json']\n"
     ]
    }
   ],
   "source": [
    "print(os.listdir())"
   ]
  },
  {
   "cell_type": "code",
   "execution_count": 3,
   "id": "464cec85",
   "metadata": {},
   "outputs": [],
   "source": [
    "import json\n",
    "import pandas as pd\n",
    "import numpy as np\n",
    "\n",
    "# Read all tables\n",
    "# file_name: name of .json file\n",
    "# max_iter: how many rows to read\n",
    "def read_yelp_table(file_name, max_iter=None):\n",
    "    data_file = open(file_name, encoding='utf-8')\n",
    "    data = []\n",
    "    for i, line in enumerate(data_file):\n",
    "        data.append(json.loads(line))\n",
    "        if max_iter is not None:\n",
    "            if i > max_iter:\n",
    "                break\n",
    "    read_df = pd.DataFrame(data)\n",
    "    data_file.close()\n",
    "    return read_df"
   ]
  },
  {
   "cell_type": "markdown",
   "id": "5b2f12c7",
   "metadata": {},
   "source": [
    "## Read Data"
   ]
  },
  {
   "cell_type": "code",
   "execution_count": 4,
   "id": "d43bcd56",
   "metadata": {},
   "outputs": [
    {
     "data": {
      "text/html": [
       "<div>\n",
       "<style scoped>\n",
       "    .dataframe tbody tr th:only-of-type {\n",
       "        vertical-align: middle;\n",
       "    }\n",
       "\n",
       "    .dataframe tbody tr th {\n",
       "        vertical-align: top;\n",
       "    }\n",
       "\n",
       "    .dataframe thead th {\n",
       "        text-align: right;\n",
       "    }\n",
       "</style>\n",
       "<table border=\"1\" class=\"dataframe\">\n",
       "  <thead>\n",
       "    <tr style=\"text-align: right;\">\n",
       "      <th></th>\n",
       "      <th>business_id</th>\n",
       "      <th>name</th>\n",
       "      <th>address</th>\n",
       "      <th>city</th>\n",
       "      <th>state</th>\n",
       "      <th>postal_code</th>\n",
       "      <th>latitude</th>\n",
       "      <th>longitude</th>\n",
       "      <th>stars</th>\n",
       "      <th>review_count</th>\n",
       "      <th>is_open</th>\n",
       "      <th>attributes</th>\n",
       "      <th>categories</th>\n",
       "      <th>hours</th>\n",
       "    </tr>\n",
       "  </thead>\n",
       "  <tbody>\n",
       "    <tr>\n",
       "      <th>0</th>\n",
       "      <td>Pns2l4eNsfO8kk83dixA6A</td>\n",
       "      <td>Abby Rappoport, LAC, CMQ</td>\n",
       "      <td>1616 Chapala St, Ste 2</td>\n",
       "      <td>Santa Barbara</td>\n",
       "      <td>CA</td>\n",
       "      <td>93101</td>\n",
       "      <td>34.426679</td>\n",
       "      <td>-119.711197</td>\n",
       "      <td>5.0</td>\n",
       "      <td>7</td>\n",
       "      <td>0</td>\n",
       "      <td>{'ByAppointmentOnly': 'True'}</td>\n",
       "      <td>Doctors, Traditional Chinese Medicine, Naturop...</td>\n",
       "      <td>None</td>\n",
       "    </tr>\n",
       "    <tr>\n",
       "      <th>1</th>\n",
       "      <td>mpf3x-BjTdTEA3yCZrAYPw</td>\n",
       "      <td>The UPS Store</td>\n",
       "      <td>87 Grasso Plaza Shopping Center</td>\n",
       "      <td>Affton</td>\n",
       "      <td>MO</td>\n",
       "      <td>63123</td>\n",
       "      <td>38.551126</td>\n",
       "      <td>-90.335695</td>\n",
       "      <td>3.0</td>\n",
       "      <td>15</td>\n",
       "      <td>1</td>\n",
       "      <td>{'BusinessAcceptsCreditCards': 'True'}</td>\n",
       "      <td>Shipping Centers, Local Services, Notaries, Ma...</td>\n",
       "      <td>{'Monday': '0:0-0:0', 'Tuesday': '8:0-18:30', ...</td>\n",
       "    </tr>\n",
       "    <tr>\n",
       "      <th>2</th>\n",
       "      <td>tUFrWirKiKi_TAnsVWINQQ</td>\n",
       "      <td>Target</td>\n",
       "      <td>5255 E Broadway Blvd</td>\n",
       "      <td>Tucson</td>\n",
       "      <td>AZ</td>\n",
       "      <td>85711</td>\n",
       "      <td>32.223236</td>\n",
       "      <td>-110.880452</td>\n",
       "      <td>3.5</td>\n",
       "      <td>22</td>\n",
       "      <td>0</td>\n",
       "      <td>{'BikeParking': 'True', 'BusinessAcceptsCredit...</td>\n",
       "      <td>Department Stores, Shopping, Fashion, Home &amp; G...</td>\n",
       "      <td>{'Monday': '8:0-22:0', 'Tuesday': '8:0-22:0', ...</td>\n",
       "    </tr>\n",
       "    <tr>\n",
       "      <th>3</th>\n",
       "      <td>MTSW4McQd7CbVtyjqoe9mw</td>\n",
       "      <td>St Honore Pastries</td>\n",
       "      <td>935 Race St</td>\n",
       "      <td>Philadelphia</td>\n",
       "      <td>PA</td>\n",
       "      <td>19107</td>\n",
       "      <td>39.955505</td>\n",
       "      <td>-75.155564</td>\n",
       "      <td>4.0</td>\n",
       "      <td>80</td>\n",
       "      <td>1</td>\n",
       "      <td>{'RestaurantsDelivery': 'False', 'OutdoorSeati...</td>\n",
       "      <td>Restaurants, Food, Bubble Tea, Coffee &amp; Tea, B...</td>\n",
       "      <td>{'Monday': '7:0-20:0', 'Tuesday': '7:0-20:0', ...</td>\n",
       "    </tr>\n",
       "    <tr>\n",
       "      <th>4</th>\n",
       "      <td>mWMc6_wTdE0EUBKIGXDVfA</td>\n",
       "      <td>Perkiomen Valley Brewery</td>\n",
       "      <td>101 Walnut St</td>\n",
       "      <td>Green Lane</td>\n",
       "      <td>PA</td>\n",
       "      <td>18054</td>\n",
       "      <td>40.338183</td>\n",
       "      <td>-75.471659</td>\n",
       "      <td>4.5</td>\n",
       "      <td>13</td>\n",
       "      <td>1</td>\n",
       "      <td>{'BusinessAcceptsCreditCards': 'True', 'Wheelc...</td>\n",
       "      <td>Brewpubs, Breweries, Food</td>\n",
       "      <td>{'Wednesday': '14:0-22:0', 'Thursday': '16:0-2...</td>\n",
       "    </tr>\n",
       "  </tbody>\n",
       "</table>\n",
       "</div>"
      ],
      "text/plain": [
       "              business_id                      name  \\\n",
       "0  Pns2l4eNsfO8kk83dixA6A  Abby Rappoport, LAC, CMQ   \n",
       "1  mpf3x-BjTdTEA3yCZrAYPw             The UPS Store   \n",
       "2  tUFrWirKiKi_TAnsVWINQQ                    Target   \n",
       "3  MTSW4McQd7CbVtyjqoe9mw        St Honore Pastries   \n",
       "4  mWMc6_wTdE0EUBKIGXDVfA  Perkiomen Valley Brewery   \n",
       "\n",
       "                           address           city state postal_code  \\\n",
       "0           1616 Chapala St, Ste 2  Santa Barbara    CA       93101   \n",
       "1  87 Grasso Plaza Shopping Center         Affton    MO       63123   \n",
       "2             5255 E Broadway Blvd         Tucson    AZ       85711   \n",
       "3                      935 Race St   Philadelphia    PA       19107   \n",
       "4                    101 Walnut St     Green Lane    PA       18054   \n",
       "\n",
       "    latitude   longitude  stars  review_count  is_open  \\\n",
       "0  34.426679 -119.711197    5.0             7        0   \n",
       "1  38.551126  -90.335695    3.0            15        1   \n",
       "2  32.223236 -110.880452    3.5            22        0   \n",
       "3  39.955505  -75.155564    4.0            80        1   \n",
       "4  40.338183  -75.471659    4.5            13        1   \n",
       "\n",
       "                                          attributes  \\\n",
       "0                      {'ByAppointmentOnly': 'True'}   \n",
       "1             {'BusinessAcceptsCreditCards': 'True'}   \n",
       "2  {'BikeParking': 'True', 'BusinessAcceptsCredit...   \n",
       "3  {'RestaurantsDelivery': 'False', 'OutdoorSeati...   \n",
       "4  {'BusinessAcceptsCreditCards': 'True', 'Wheelc...   \n",
       "\n",
       "                                          categories  \\\n",
       "0  Doctors, Traditional Chinese Medicine, Naturop...   \n",
       "1  Shipping Centers, Local Services, Notaries, Ma...   \n",
       "2  Department Stores, Shopping, Fashion, Home & G...   \n",
       "3  Restaurants, Food, Bubble Tea, Coffee & Tea, B...   \n",
       "4                          Brewpubs, Breweries, Food   \n",
       "\n",
       "                                               hours  \n",
       "0                                               None  \n",
       "1  {'Monday': '0:0-0:0', 'Tuesday': '8:0-18:30', ...  \n",
       "2  {'Monday': '8:0-22:0', 'Tuesday': '8:0-22:0', ...  \n",
       "3  {'Monday': '7:0-20:0', 'Tuesday': '7:0-20:0', ...  \n",
       "4  {'Wednesday': '14:0-22:0', 'Thursday': '16:0-2...  "
      ]
     },
     "execution_count": 4,
     "metadata": {},
     "output_type": "execute_result"
    }
   ],
   "source": [
    "business_df = read_yelp_table('yelp_academic_dataset_business.json')\n",
    "business_df.head()"
   ]
  },
  {
   "cell_type": "code",
   "execution_count": 5,
   "id": "2fe41f30",
   "metadata": {
    "scrolled": true
   },
   "outputs": [
    {
     "data": {
      "text/html": [
       "<div>\n",
       "<style scoped>\n",
       "    .dataframe tbody tr th:only-of-type {\n",
       "        vertical-align: middle;\n",
       "    }\n",
       "\n",
       "    .dataframe tbody tr th {\n",
       "        vertical-align: top;\n",
       "    }\n",
       "\n",
       "    .dataframe thead th {\n",
       "        text-align: right;\n",
       "    }\n",
       "</style>\n",
       "<table border=\"1\" class=\"dataframe\">\n",
       "  <thead>\n",
       "    <tr style=\"text-align: right;\">\n",
       "      <th></th>\n",
       "      <th>business_id</th>\n",
       "      <th>date</th>\n",
       "    </tr>\n",
       "  </thead>\n",
       "  <tbody>\n",
       "    <tr>\n",
       "      <th>0</th>\n",
       "      <td>---kPU91CF4Lq2-WlRu9Lw</td>\n",
       "      <td>2020-03-13 21:10:56, 2020-06-02 22:18:06, 2020...</td>\n",
       "    </tr>\n",
       "    <tr>\n",
       "      <th>1</th>\n",
       "      <td>--0iUa4sNDFiZFrAdIWhZQ</td>\n",
       "      <td>2010-09-13 21:43:09, 2011-05-04 23:08:15, 2011...</td>\n",
       "    </tr>\n",
       "    <tr>\n",
       "      <th>2</th>\n",
       "      <td>--30_8IhuyMHbSOcNWd6DQ</td>\n",
       "      <td>2013-06-14 23:29:17, 2014-08-13 23:20:22</td>\n",
       "    </tr>\n",
       "    <tr>\n",
       "      <th>3</th>\n",
       "      <td>--7PUidqRWpRSpXebiyxTg</td>\n",
       "      <td>2011-02-15 17:12:00, 2011-07-28 02:46:10, 2012...</td>\n",
       "    </tr>\n",
       "    <tr>\n",
       "      <th>4</th>\n",
       "      <td>--7jw19RH9JKXgFohspgQw</td>\n",
       "      <td>2014-04-21 20:42:11, 2014-04-28 21:04:46, 2014...</td>\n",
       "    </tr>\n",
       "  </tbody>\n",
       "</table>\n",
       "</div>"
      ],
      "text/plain": [
       "              business_id                                               date\n",
       "0  ---kPU91CF4Lq2-WlRu9Lw  2020-03-13 21:10:56, 2020-06-02 22:18:06, 2020...\n",
       "1  --0iUa4sNDFiZFrAdIWhZQ  2010-09-13 21:43:09, 2011-05-04 23:08:15, 2011...\n",
       "2  --30_8IhuyMHbSOcNWd6DQ           2013-06-14 23:29:17, 2014-08-13 23:20:22\n",
       "3  --7PUidqRWpRSpXebiyxTg  2011-02-15 17:12:00, 2011-07-28 02:46:10, 2012...\n",
       "4  --7jw19RH9JKXgFohspgQw  2014-04-21 20:42:11, 2014-04-28 21:04:46, 2014..."
      ]
     },
     "execution_count": 5,
     "metadata": {},
     "output_type": "execute_result"
    }
   ],
   "source": [
    "checkin_df = read_yelp_table('yelp_academic_dataset_checkin.json')\n",
    "checkin_df.head()"
   ]
  },
  {
   "cell_type": "code",
   "execution_count": 6,
   "id": "d89b3e30",
   "metadata": {},
   "outputs": [
    {
     "data": {
      "text/html": [
       "<div>\n",
       "<style scoped>\n",
       "    .dataframe tbody tr th:only-of-type {\n",
       "        vertical-align: middle;\n",
       "    }\n",
       "\n",
       "    .dataframe tbody tr th {\n",
       "        vertical-align: top;\n",
       "    }\n",
       "\n",
       "    .dataframe thead th {\n",
       "        text-align: right;\n",
       "    }\n",
       "</style>\n",
       "<table border=\"1\" class=\"dataframe\">\n",
       "  <thead>\n",
       "    <tr style=\"text-align: right;\">\n",
       "      <th></th>\n",
       "      <th>review_id</th>\n",
       "      <th>user_id</th>\n",
       "      <th>business_id</th>\n",
       "      <th>stars</th>\n",
       "      <th>useful</th>\n",
       "      <th>funny</th>\n",
       "      <th>cool</th>\n",
       "      <th>text</th>\n",
       "      <th>date</th>\n",
       "    </tr>\n",
       "  </thead>\n",
       "  <tbody>\n",
       "    <tr>\n",
       "      <th>0</th>\n",
       "      <td>KU_O5udG6zpxOg-VcAEodg</td>\n",
       "      <td>mh_-eMZ6K5RLWhZyISBhwA</td>\n",
       "      <td>XQfwVwDr-v0ZS3_CbbE5Xw</td>\n",
       "      <td>3.0</td>\n",
       "      <td>0</td>\n",
       "      <td>0</td>\n",
       "      <td>0</td>\n",
       "      <td>If you decide to eat here, just be aware it is...</td>\n",
       "      <td>2018-07-07 22:09:11</td>\n",
       "    </tr>\n",
       "    <tr>\n",
       "      <th>1</th>\n",
       "      <td>BiTunyQ73aT9WBnpR9DZGw</td>\n",
       "      <td>OyoGAe7OKpv6SyGZT5g77Q</td>\n",
       "      <td>7ATYjTIgM3jUlt4UM3IypQ</td>\n",
       "      <td>5.0</td>\n",
       "      <td>1</td>\n",
       "      <td>0</td>\n",
       "      <td>1</td>\n",
       "      <td>I've taken a lot of spin classes over the year...</td>\n",
       "      <td>2012-01-03 15:28:18</td>\n",
       "    </tr>\n",
       "    <tr>\n",
       "      <th>2</th>\n",
       "      <td>saUsX_uimxRlCVr67Z4Jig</td>\n",
       "      <td>8g_iMtfSiwikVnbP2etR0A</td>\n",
       "      <td>YjUWPpI6HXG530lwP-fb2A</td>\n",
       "      <td>3.0</td>\n",
       "      <td>0</td>\n",
       "      <td>0</td>\n",
       "      <td>0</td>\n",
       "      <td>Family diner. Had the buffet. Eclectic assortm...</td>\n",
       "      <td>2014-02-05 20:30:30</td>\n",
       "    </tr>\n",
       "    <tr>\n",
       "      <th>3</th>\n",
       "      <td>AqPFMleE6RsU23_auESxiA</td>\n",
       "      <td>_7bHUi9Uuf5__HHc_Q8guQ</td>\n",
       "      <td>kxX2SOes4o-D3ZQBkiMRfA</td>\n",
       "      <td>5.0</td>\n",
       "      <td>1</td>\n",
       "      <td>0</td>\n",
       "      <td>1</td>\n",
       "      <td>Wow!  Yummy, different,  delicious.   Our favo...</td>\n",
       "      <td>2015-01-04 00:01:03</td>\n",
       "    </tr>\n",
       "    <tr>\n",
       "      <th>4</th>\n",
       "      <td>Sx8TMOWLNuJBWer-0pcmoA</td>\n",
       "      <td>bcjbaE6dDog4jkNY91ncLQ</td>\n",
       "      <td>e4Vwtrqf-wpJfwesgvdgxQ</td>\n",
       "      <td>4.0</td>\n",
       "      <td>1</td>\n",
       "      <td>0</td>\n",
       "      <td>1</td>\n",
       "      <td>Cute interior and owner (?) gave us tour of up...</td>\n",
       "      <td>2017-01-14 20:54:15</td>\n",
       "    </tr>\n",
       "  </tbody>\n",
       "</table>\n",
       "</div>"
      ],
      "text/plain": [
       "                review_id                 user_id             business_id  \\\n",
       "0  KU_O5udG6zpxOg-VcAEodg  mh_-eMZ6K5RLWhZyISBhwA  XQfwVwDr-v0ZS3_CbbE5Xw   \n",
       "1  BiTunyQ73aT9WBnpR9DZGw  OyoGAe7OKpv6SyGZT5g77Q  7ATYjTIgM3jUlt4UM3IypQ   \n",
       "2  saUsX_uimxRlCVr67Z4Jig  8g_iMtfSiwikVnbP2etR0A  YjUWPpI6HXG530lwP-fb2A   \n",
       "3  AqPFMleE6RsU23_auESxiA  _7bHUi9Uuf5__HHc_Q8guQ  kxX2SOes4o-D3ZQBkiMRfA   \n",
       "4  Sx8TMOWLNuJBWer-0pcmoA  bcjbaE6dDog4jkNY91ncLQ  e4Vwtrqf-wpJfwesgvdgxQ   \n",
       "\n",
       "   stars  useful  funny  cool  \\\n",
       "0    3.0       0      0     0   \n",
       "1    5.0       1      0     1   \n",
       "2    3.0       0      0     0   \n",
       "3    5.0       1      0     1   \n",
       "4    4.0       1      0     1   \n",
       "\n",
       "                                                text                 date  \n",
       "0  If you decide to eat here, just be aware it is...  2018-07-07 22:09:11  \n",
       "1  I've taken a lot of spin classes over the year...  2012-01-03 15:28:18  \n",
       "2  Family diner. Had the buffet. Eclectic assortm...  2014-02-05 20:30:30  \n",
       "3  Wow!  Yummy, different,  delicious.   Our favo...  2015-01-04 00:01:03  \n",
       "4  Cute interior and owner (?) gave us tour of up...  2017-01-14 20:54:15  "
      ]
     },
     "execution_count": 6,
     "metadata": {},
     "output_type": "execute_result"
    }
   ],
   "source": [
    "#review_df = read_yelp_table(\"yelp_academic_dataset_review.json\", max_iter=1000000)\n",
    "review_df = read_yelp_table(\"yelp_academic_dataset_review.json\")\n",
    "review_df.head()"
   ]
  },
  {
   "cell_type": "code",
   "execution_count": 7,
   "id": "81dfafd1",
   "metadata": {},
   "outputs": [
    {
     "data": {
      "text/html": [
       "<div>\n",
       "<style scoped>\n",
       "    .dataframe tbody tr th:only-of-type {\n",
       "        vertical-align: middle;\n",
       "    }\n",
       "\n",
       "    .dataframe tbody tr th {\n",
       "        vertical-align: top;\n",
       "    }\n",
       "\n",
       "    .dataframe thead th {\n",
       "        text-align: right;\n",
       "    }\n",
       "</style>\n",
       "<table border=\"1\" class=\"dataframe\">\n",
       "  <thead>\n",
       "    <tr style=\"text-align: right;\">\n",
       "      <th></th>\n",
       "      <th>user_id</th>\n",
       "      <th>business_id</th>\n",
       "      <th>text</th>\n",
       "      <th>date</th>\n",
       "      <th>compliment_count</th>\n",
       "    </tr>\n",
       "  </thead>\n",
       "  <tbody>\n",
       "    <tr>\n",
       "      <th>0</th>\n",
       "      <td>AGNUgVwnZUey3gcPCJ76iw</td>\n",
       "      <td>3uLgwr0qeCNMjKenHJwPGQ</td>\n",
       "      <td>Avengers time with the ladies.</td>\n",
       "      <td>2012-05-18 02:17:21</td>\n",
       "      <td>0</td>\n",
       "    </tr>\n",
       "    <tr>\n",
       "      <th>1</th>\n",
       "      <td>NBN4MgHP9D3cw--SnauTkA</td>\n",
       "      <td>QoezRbYQncpRqyrLH6Iqjg</td>\n",
       "      <td>They have lots of good deserts and tasty cuban...</td>\n",
       "      <td>2013-02-05 18:35:10</td>\n",
       "      <td>0</td>\n",
       "    </tr>\n",
       "    <tr>\n",
       "      <th>2</th>\n",
       "      <td>-copOvldyKh1qr-vzkDEvw</td>\n",
       "      <td>MYoRNLb5chwjQe3c_k37Gg</td>\n",
       "      <td>It's open even when you think it isn't</td>\n",
       "      <td>2013-08-18 00:56:08</td>\n",
       "      <td>0</td>\n",
       "    </tr>\n",
       "    <tr>\n",
       "      <th>3</th>\n",
       "      <td>FjMQVZjSqY8syIO-53KFKw</td>\n",
       "      <td>hV-bABTK-glh5wj31ps_Jw</td>\n",
       "      <td>Very decent fried chicken</td>\n",
       "      <td>2017-06-27 23:05:38</td>\n",
       "      <td>0</td>\n",
       "    </tr>\n",
       "    <tr>\n",
       "      <th>4</th>\n",
       "      <td>ld0AperBXk1h6UbqmM80zw</td>\n",
       "      <td>_uN0OudeJ3Zl_tf6nxg5ww</td>\n",
       "      <td>Appetizers.. platter special for lunch</td>\n",
       "      <td>2012-10-06 19:43:09</td>\n",
       "      <td>0</td>\n",
       "    </tr>\n",
       "  </tbody>\n",
       "</table>\n",
       "</div>"
      ],
      "text/plain": [
       "                  user_id             business_id  \\\n",
       "0  AGNUgVwnZUey3gcPCJ76iw  3uLgwr0qeCNMjKenHJwPGQ   \n",
       "1  NBN4MgHP9D3cw--SnauTkA  QoezRbYQncpRqyrLH6Iqjg   \n",
       "2  -copOvldyKh1qr-vzkDEvw  MYoRNLb5chwjQe3c_k37Gg   \n",
       "3  FjMQVZjSqY8syIO-53KFKw  hV-bABTK-glh5wj31ps_Jw   \n",
       "4  ld0AperBXk1h6UbqmM80zw  _uN0OudeJ3Zl_tf6nxg5ww   \n",
       "\n",
       "                                                text                 date  \\\n",
       "0                     Avengers time with the ladies.  2012-05-18 02:17:21   \n",
       "1  They have lots of good deserts and tasty cuban...  2013-02-05 18:35:10   \n",
       "2             It's open even when you think it isn't  2013-08-18 00:56:08   \n",
       "3                          Very decent fried chicken  2017-06-27 23:05:38   \n",
       "4             Appetizers.. platter special for lunch  2012-10-06 19:43:09   \n",
       "\n",
       "   compliment_count  \n",
       "0                 0  \n",
       "1                 0  \n",
       "2                 0  \n",
       "3                 0  \n",
       "4                 0  "
      ]
     },
     "execution_count": 7,
     "metadata": {},
     "output_type": "execute_result"
    }
   ],
   "source": [
    "tip_df = read_yelp_table(\"yelp_academic_dataset_tip.json\")\n",
    "tip_df.head()"
   ]
  },
  {
   "cell_type": "code",
   "execution_count": 8,
   "id": "e9ff687c",
   "metadata": {},
   "outputs": [
    {
     "data": {
      "text/html": [
       "<div>\n",
       "<style scoped>\n",
       "    .dataframe tbody tr th:only-of-type {\n",
       "        vertical-align: middle;\n",
       "    }\n",
       "\n",
       "    .dataframe tbody tr th {\n",
       "        vertical-align: top;\n",
       "    }\n",
       "\n",
       "    .dataframe thead th {\n",
       "        text-align: right;\n",
       "    }\n",
       "</style>\n",
       "<table border=\"1\" class=\"dataframe\">\n",
       "  <thead>\n",
       "    <tr style=\"text-align: right;\">\n",
       "      <th></th>\n",
       "      <th>user_id</th>\n",
       "      <th>name</th>\n",
       "      <th>review_count</th>\n",
       "      <th>yelping_since</th>\n",
       "      <th>useful</th>\n",
       "      <th>funny</th>\n",
       "      <th>cool</th>\n",
       "      <th>elite</th>\n",
       "      <th>friends</th>\n",
       "      <th>fans</th>\n",
       "      <th>...</th>\n",
       "      <th>compliment_more</th>\n",
       "      <th>compliment_profile</th>\n",
       "      <th>compliment_cute</th>\n",
       "      <th>compliment_list</th>\n",
       "      <th>compliment_note</th>\n",
       "      <th>compliment_plain</th>\n",
       "      <th>compliment_cool</th>\n",
       "      <th>compliment_funny</th>\n",
       "      <th>compliment_writer</th>\n",
       "      <th>compliment_photos</th>\n",
       "    </tr>\n",
       "  </thead>\n",
       "  <tbody>\n",
       "    <tr>\n",
       "      <th>0</th>\n",
       "      <td>qVc8ODYU5SZjKXVBgXdI7w</td>\n",
       "      <td>Walker</td>\n",
       "      <td>585</td>\n",
       "      <td>2007-01-25 16:47:26</td>\n",
       "      <td>7217</td>\n",
       "      <td>1259</td>\n",
       "      <td>5994</td>\n",
       "      <td>2007</td>\n",
       "      <td>NSCy54eWehBJyZdG2iE84w, pe42u7DcCH2QmI81NX-8qA...</td>\n",
       "      <td>267</td>\n",
       "      <td>...</td>\n",
       "      <td>65</td>\n",
       "      <td>55</td>\n",
       "      <td>56</td>\n",
       "      <td>18</td>\n",
       "      <td>232</td>\n",
       "      <td>844</td>\n",
       "      <td>467</td>\n",
       "      <td>467</td>\n",
       "      <td>239</td>\n",
       "      <td>180</td>\n",
       "    </tr>\n",
       "    <tr>\n",
       "      <th>1</th>\n",
       "      <td>j14WgRoU_-2ZE1aw1dXrJg</td>\n",
       "      <td>Daniel</td>\n",
       "      <td>4333</td>\n",
       "      <td>2009-01-25 04:35:42</td>\n",
       "      <td>43091</td>\n",
       "      <td>13066</td>\n",
       "      <td>27281</td>\n",
       "      <td>2009,2010,2011,2012,2013,2014,2015,2016,2017,2...</td>\n",
       "      <td>ueRPE0CX75ePGMqOFVj6IQ, 52oH4DrRvzzl8wh5UXyU0A...</td>\n",
       "      <td>3138</td>\n",
       "      <td>...</td>\n",
       "      <td>264</td>\n",
       "      <td>184</td>\n",
       "      <td>157</td>\n",
       "      <td>251</td>\n",
       "      <td>1847</td>\n",
       "      <td>7054</td>\n",
       "      <td>3131</td>\n",
       "      <td>3131</td>\n",
       "      <td>1521</td>\n",
       "      <td>1946</td>\n",
       "    </tr>\n",
       "    <tr>\n",
       "      <th>2</th>\n",
       "      <td>2WnXYQFK0hXEoTxPtV2zvg</td>\n",
       "      <td>Steph</td>\n",
       "      <td>665</td>\n",
       "      <td>2008-07-25 10:41:00</td>\n",
       "      <td>2086</td>\n",
       "      <td>1010</td>\n",
       "      <td>1003</td>\n",
       "      <td>2009,2010,2011,2012,2013</td>\n",
       "      <td>LuO3Bn4f3rlhyHIaNfTlnA, j9B4XdHUhDfTKVecyWQgyA...</td>\n",
       "      <td>52</td>\n",
       "      <td>...</td>\n",
       "      <td>13</td>\n",
       "      <td>10</td>\n",
       "      <td>17</td>\n",
       "      <td>3</td>\n",
       "      <td>66</td>\n",
       "      <td>96</td>\n",
       "      <td>119</td>\n",
       "      <td>119</td>\n",
       "      <td>35</td>\n",
       "      <td>18</td>\n",
       "    </tr>\n",
       "    <tr>\n",
       "      <th>3</th>\n",
       "      <td>SZDeASXq7o05mMNLshsdIA</td>\n",
       "      <td>Gwen</td>\n",
       "      <td>224</td>\n",
       "      <td>2005-11-29 04:38:33</td>\n",
       "      <td>512</td>\n",
       "      <td>330</td>\n",
       "      <td>299</td>\n",
       "      <td>2009,2010,2011</td>\n",
       "      <td>enx1vVPnfdNUdPho6PH_wg, 4wOcvMLtU6a9Lslggq74Vg...</td>\n",
       "      <td>28</td>\n",
       "      <td>...</td>\n",
       "      <td>4</td>\n",
       "      <td>1</td>\n",
       "      <td>6</td>\n",
       "      <td>2</td>\n",
       "      <td>12</td>\n",
       "      <td>16</td>\n",
       "      <td>26</td>\n",
       "      <td>26</td>\n",
       "      <td>10</td>\n",
       "      <td>9</td>\n",
       "    </tr>\n",
       "    <tr>\n",
       "      <th>4</th>\n",
       "      <td>hA5lMy-EnncsH4JoR-hFGQ</td>\n",
       "      <td>Karen</td>\n",
       "      <td>79</td>\n",
       "      <td>2007-01-05 19:40:59</td>\n",
       "      <td>29</td>\n",
       "      <td>15</td>\n",
       "      <td>7</td>\n",
       "      <td></td>\n",
       "      <td>PBK4q9KEEBHhFvSXCUirIw, 3FWPpM7KU1gXeOM_ZbYMbA...</td>\n",
       "      <td>1</td>\n",
       "      <td>...</td>\n",
       "      <td>1</td>\n",
       "      <td>0</td>\n",
       "      <td>0</td>\n",
       "      <td>0</td>\n",
       "      <td>1</td>\n",
       "      <td>1</td>\n",
       "      <td>0</td>\n",
       "      <td>0</td>\n",
       "      <td>0</td>\n",
       "      <td>0</td>\n",
       "    </tr>\n",
       "  </tbody>\n",
       "</table>\n",
       "<p>5 rows × 22 columns</p>\n",
       "</div>"
      ],
      "text/plain": [
       "                  user_id    name  review_count        yelping_since  useful  \\\n",
       "0  qVc8ODYU5SZjKXVBgXdI7w  Walker           585  2007-01-25 16:47:26    7217   \n",
       "1  j14WgRoU_-2ZE1aw1dXrJg  Daniel          4333  2009-01-25 04:35:42   43091   \n",
       "2  2WnXYQFK0hXEoTxPtV2zvg   Steph           665  2008-07-25 10:41:00    2086   \n",
       "3  SZDeASXq7o05mMNLshsdIA    Gwen           224  2005-11-29 04:38:33     512   \n",
       "4  hA5lMy-EnncsH4JoR-hFGQ   Karen            79  2007-01-05 19:40:59      29   \n",
       "\n",
       "   funny   cool                                              elite  \\\n",
       "0   1259   5994                                               2007   \n",
       "1  13066  27281  2009,2010,2011,2012,2013,2014,2015,2016,2017,2...   \n",
       "2   1010   1003                           2009,2010,2011,2012,2013   \n",
       "3    330    299                                     2009,2010,2011   \n",
       "4     15      7                                                      \n",
       "\n",
       "                                             friends  fans  ...  \\\n",
       "0  NSCy54eWehBJyZdG2iE84w, pe42u7DcCH2QmI81NX-8qA...   267  ...   \n",
       "1  ueRPE0CX75ePGMqOFVj6IQ, 52oH4DrRvzzl8wh5UXyU0A...  3138  ...   \n",
       "2  LuO3Bn4f3rlhyHIaNfTlnA, j9B4XdHUhDfTKVecyWQgyA...    52  ...   \n",
       "3  enx1vVPnfdNUdPho6PH_wg, 4wOcvMLtU6a9Lslggq74Vg...    28  ...   \n",
       "4  PBK4q9KEEBHhFvSXCUirIw, 3FWPpM7KU1gXeOM_ZbYMbA...     1  ...   \n",
       "\n",
       "   compliment_more  compliment_profile  compliment_cute  compliment_list  \\\n",
       "0               65                  55               56               18   \n",
       "1              264                 184              157              251   \n",
       "2               13                  10               17                3   \n",
       "3                4                   1                6                2   \n",
       "4                1                   0                0                0   \n",
       "\n",
       "   compliment_note  compliment_plain  compliment_cool  compliment_funny  \\\n",
       "0              232               844              467               467   \n",
       "1             1847              7054             3131              3131   \n",
       "2               66                96              119               119   \n",
       "3               12                16               26                26   \n",
       "4                1                 1                0                 0   \n",
       "\n",
       "   compliment_writer  compliment_photos  \n",
       "0                239                180  \n",
       "1               1521               1946  \n",
       "2                 35                 18  \n",
       "3                 10                  9  \n",
       "4                  0                  0  \n",
       "\n",
       "[5 rows x 22 columns]"
      ]
     },
     "execution_count": 8,
     "metadata": {},
     "output_type": "execute_result"
    }
   ],
   "source": [
    "# user_df = read_yelp_table(\"yelp_academic_dataset_user.json\", max_iter=10000)\n",
    "user_df = read_yelp_table(\"yelp_academic_dataset_user.json\")\n",
    "user_df.head()"
   ]
  },
  {
   "cell_type": "markdown",
   "id": "9e6a6769",
   "metadata": {},
   "source": [
    "##### Data shape and check on the uniqueness of indices"
   ]
  },
  {
   "cell_type": "code",
   "execution_count": 9,
   "id": "6d6e7591",
   "metadata": {},
   "outputs": [
    {
     "name": "stdout",
     "output_type": "stream",
     "text": [
      "Shape:\n",
      "Business: (150346, 14),\n",
      "Users: (1987897, 22),\n",
      "Tips: (908915, 5),\n",
      "Reviews: (6990280, 9),\n",
      "Check-ins: (131930, 2)\n"
     ]
    }
   ],
   "source": [
    "print('Shape:\\nBusiness: {},\\nUsers: {},\\nTips: {},\\nReviews: {},\\nCheck-ins: {}'.format(business_df.shape, user_df.shape, tip_df.shape, review_df.shape,\n",
    "                                                                               checkin_df.shape))"
   ]
  },
  {
   "cell_type": "code",
   "execution_count": 10,
   "id": "8a610635",
   "metadata": {},
   "outputs": [
    {
     "name": "stdout",
     "output_type": "stream",
     "text": [
      "Unique indices:\n",
      "Business: 150346,\n",
      "Users: 1987897,\n",
      "Reviews: 6990280,\n",
      "Check-ins: 131930\n",
      "\n"
     ]
    }
   ],
   "source": [
    "print('Unique indices:\\nBusiness: {},\\nUsers: {},\\nReviews: {},\\nCheck-ins: {}\\n'.format(business_df.business_id.nunique(), user_df.user_id.nunique(),\n",
    "                                                          review_df.review_id.nunique(), checkin_df.business_id.nunique()))"
   ]
  },
  {
   "cell_type": "markdown",
   "id": "b31064a4",
   "metadata": {},
   "source": [
    "## Exploratory analysis: business_df"
   ]
  },
  {
   "cell_type": "code",
   "execution_count": 11,
   "id": "8aa33bd7",
   "metadata": {},
   "outputs": [],
   "source": [
    "import matplotlib.pyplot as plt\n",
    "import seaborn as sns\n",
    "from IPython.display import display"
   ]
  },
  {
   "cell_type": "code",
   "execution_count": 12,
   "id": "5577acfd",
   "metadata": {},
   "outputs": [
    {
     "name": "stdout",
     "output_type": "stream",
     "text": [
      "<class 'pandas.core.frame.DataFrame'>\n",
      "RangeIndex: 150346 entries, 0 to 150345\n",
      "Data columns (total 14 columns):\n",
      " #   Column        Non-Null Count   Dtype  \n",
      "---  ------        --------------   -----  \n",
      " 0   business_id   150346 non-null  object \n",
      " 1   name          150346 non-null  object \n",
      " 2   address       150346 non-null  object \n",
      " 3   city          150346 non-null  object \n",
      " 4   state         150346 non-null  object \n",
      " 5   postal_code   150346 non-null  object \n",
      " 6   latitude      150346 non-null  float64\n",
      " 7   longitude     150346 non-null  float64\n",
      " 8   stars         150346 non-null  float64\n",
      " 9   review_count  150346 non-null  int64  \n",
      " 10  is_open       150346 non-null  int64  \n",
      " 11  attributes    136602 non-null  object \n",
      " 12  categories    150243 non-null  object \n",
      " 13  hours         127123 non-null  object \n",
      "dtypes: float64(3), int64(2), object(9)\n",
      "memory usage: 16.1+ MB\n"
     ]
    }
   ],
   "source": [
    "# Print info\n",
    "business_df.info()"
   ]
  },
  {
   "cell_type": "code",
   "execution_count": 13,
   "id": "57ad56c2",
   "metadata": {},
   "outputs": [
    {
     "data": {
      "text/plain": [
       "business_id     150346\n",
       "name            114117\n",
       "address         122844\n",
       "city              1416\n",
       "state               27\n",
       "postal_code       3362\n",
       "latitude        135593\n",
       "longitude       131918\n",
       "stars                9\n",
       "review_count      1158\n",
       "is_open              2\n",
       "categories       83160\n",
       "dtype: int64"
      ]
     },
     "execution_count": 13,
     "metadata": {},
     "output_type": "execute_result"
    }
   ],
   "source": [
    "# Check number of unique values for the columns\n",
    "business_df.drop(['attributes','hours'],axis=1).nunique()"
   ]
  },
  {
   "cell_type": "markdown",
   "id": "aad2af6a",
   "metadata": {},
   "source": [
    "Missing values in attributes, categories and hours"
   ]
  },
  {
   "cell_type": "code",
   "execution_count": 14,
   "id": "b6e5526f",
   "metadata": {},
   "outputs": [
    {
     "data": {
      "text/plain": [
       "<AxesSubplot:title={'center':'Distribution of star ratings among all business'}, xlabel='stars', ylabel='count'>"
      ]
     },
     "execution_count": 14,
     "metadata": {},
     "output_type": "execute_result"
    },
    {
     "data": {
      "image/png": "[encoded data removed]",
      "text/plain": [
       "<Figure size 432x288 with 1 Axes>"
      ]
     },
     "metadata": {
      "needs_background": "light"
     },
     "output_type": "display_data"
    }
   ],
   "source": [
    "# Plot star rating distribution\n",
    "plt.title(\"Distribution of star ratings among all business\")\n",
    "sns.countplot(x=business_df.stars)"
   ]
  },
  {
   "cell_type": "code",
   "execution_count": 15,
   "id": "1ec87aba",
   "metadata": {},
   "outputs": [
    {
     "data": {
      "text/plain": [
       "<AxesSubplot:title={'center':'Distribution of states where the business exists'}, xlabel='state', ylabel='count'>"
      ]
     },
     "execution_count": 15,
     "metadata": {},
     "output_type": "execute_result"
    },
    {
     "data": {
      "image/png": "[encoded data removed]",
      "text/plain": [
       "<Figure size 576x360 with 1 Axes>"
      ]
     },
     "metadata": {
      "needs_background": "light"
     },
     "output_type": "display_data"
    }
   ],
   "source": [
    "# Plot distribution among countries\n",
    "plt.figure(figsize=(8,5))\n",
    "plt.title(\"Distribution of states where the business exists\")\n",
    "sns.countplot(x=business_df.state,\n",
    "             order = business_df[\"state\"].value_counts().index)"
   ]
  },
  {
   "cell_type": "code",
   "execution_count": 16,
   "id": "840ac311",
   "metadata": {},
   "outputs": [
    {
     "data": {
      "text/plain": [
       "27"
      ]
     },
     "execution_count": 16,
     "metadata": {},
     "output_type": "execute_result"
    }
   ],
   "source": [
    "# Number of unique states\n",
    "business_df.state.nunique()"
   ]
  },
  {
   "cell_type": "code",
   "execution_count": 17,
   "id": "cc6068ac",
   "metadata": {},
   "outputs": [
    {
     "data": {
      "text/plain": [
       "PA     0.226404\n",
       "FL     0.175129\n",
       "TN     0.080188\n",
       "IN     0.074807\n",
       "MO     0.072586\n",
       "LA     0.066008\n",
       "AZ     0.065928\n",
       "NJ     0.056776\n",
       "NV     0.051315\n",
       "AB     0.037068\n",
       "CA     0.034607\n",
       "ID     0.029711\n",
       "DE     0.015065\n",
       "IL     0.014267\n",
       "TX     0.000027\n",
       "CO     0.000020\n",
       "WA     0.000013\n",
       "HI     0.000013\n",
       "MA     0.000013\n",
       "NC     0.000007\n",
       "UT     0.000007\n",
       "MT     0.000007\n",
       "MI     0.000007\n",
       "SD     0.000007\n",
       "XMS    0.000007\n",
       "VI     0.000007\n",
       "VT     0.000007\n",
       "Name: state, dtype: float64"
      ]
     },
     "execution_count": 17,
     "metadata": {},
     "output_type": "execute_result"
    }
   ],
   "source": [
    "# Percent of business_ids opened in each state from the whole data set\n",
    "business_df.state.value_counts(normalize=True)"
   ]
  },
  {
   "cell_type": "code",
   "execution_count": 18,
   "id": "9de8af21",
   "metadata": {},
   "outputs": [
    {
     "data": {
      "text/plain": [
       "Beauty & Spas, Nail Salons                                                                                       1012\n",
       "Restaurants, Pizza                                                                                                935\n",
       "Nail Salons, Beauty & Spas                                                                                        934\n",
       "Pizza, Restaurants                                                                                                823\n",
       "Restaurants, Mexican                                                                                              728\n",
       "                                                                                                                 ... \n",
       "Dermatologists, Health & Medical, Cosmetic Surgeons, Doctors, Acne Treatment, Skin Care, Beauty & Spas              1\n",
       "Home Services, Home & Garden, Nurseries & Gardening, Hardware Stores, Shopping, Building Supplies, Appliances       1\n",
       "Food Trucks, Smokehouse, Restaurants, Food, Barbeque, Soul Food, Food Stands                                        1\n",
       "Assisted Living Facilities, Memory Care, Health & Medical, Hospice                                                  1\n",
       "Beauty & Spas, Permanent Makeup, Piercing, Tattoo                                                                   1\n",
       "Name: categories, Length: 83160, dtype: int64"
      ]
     },
     "execution_count": 18,
     "metadata": {},
     "output_type": "execute_result"
    }
   ],
   "source": [
    "# Description of business categories\n",
    "business_df.categories.value_counts()"
   ]
  },
  {
   "cell_type": "code",
   "execution_count": 19,
   "id": "cd8a7677",
   "metadata": {},
   "outputs": [],
   "source": [
    "# Extract categories\n",
    "categories_df = business_df['categories'].str.get_dummies(sep=', ')\n",
    "categories_names = categories_df.columns.tolist()"
   ]
  },
  {
   "cell_type": "code",
   "execution_count": 20,
   "id": "affc5d66",
   "metadata": {},
   "outputs": [
    {
     "data": {
      "text/plain": [
       "(150346, 1311)"
      ]
     },
     "execution_count": 20,
     "metadata": {},
     "output_type": "execute_result"
    }
   ],
   "source": [
    "categories_df.shape"
   ]
  },
  {
   "cell_type": "code",
   "execution_count": 21,
   "id": "2d8fc849",
   "metadata": {},
   "outputs": [],
   "source": [
    "# Detect missing values in categories\n",
    "categories_df['is_category_None'] = business_df['categories'].isnull()"
   ]
  },
  {
   "cell_type": "code",
   "execution_count": 22,
   "id": "6a84eb51",
   "metadata": {},
   "outputs": [
    {
     "data": {
      "text/plain": [
       "Restaurants                  0.347651\n",
       "Food                         0.184780\n",
       "Shopping                     0.162259\n",
       "Home Services                0.095486\n",
       "Beauty & Spas                0.095061\n",
       "Nightlife                    0.081685\n",
       "Health & Medical             0.079084\n",
       "Local Services               0.074482\n",
       "Bars                         0.073597\n",
       "Automotive                   0.071655\n",
       "Event Planning & Services    0.065815\n",
       "Sandwiches                   0.055645\n",
       "American (Traditional)       0.054135\n",
       "Active Life                  0.051129\n",
       "Pizza                        0.047178\n",
       "Coffee & Tea                 0.044584\n",
       "Fast Food                    0.043047\n",
       "Breakfast & Brunch           0.041498\n",
       "American (New)               0.040553\n",
       "Hotels & Travel              0.038957\n",
       "dtype: float64"
      ]
     },
     "execution_count": 22,
     "metadata": {},
     "output_type": "execute_result"
    }
   ],
   "source": [
    "# Percent of business_ids having each category\n",
    "categories_perc = (categories_df.sum() / categories_df.shape[0])\n",
    "categories_perc.sort_values(ascending=False).head(20)"
   ]
  },
  {
   "cell_type": "code",
   "execution_count": 23,
   "id": "3734e6ff",
   "metadata": {},
   "outputs": [
    {
     "data": {
      "text/plain": [
       "0                        {'ByAppointmentOnly': 'True'}\n",
       "1               {'BusinessAcceptsCreditCards': 'True'}\n",
       "2    {'BikeParking': 'True', 'BusinessAcceptsCredit...\n",
       "3    {'RestaurantsDelivery': 'False', 'OutdoorSeati...\n",
       "4    {'BusinessAcceptsCreditCards': 'True', 'Wheelc...\n",
       "5    {'BusinessParking': 'None', 'BusinessAcceptsCr...\n",
       "6    {'BusinessAcceptsCreditCards': 'True', 'Restau...\n",
       "7                                                 None\n",
       "8    {'Caters': 'True', 'Alcohol': 'u'full_bar'', '...\n",
       "9    {'RestaurantsAttire': ''casual'', 'Restaurants...\n",
       "Name: attributes, dtype: object"
      ]
     },
     "execution_count": 23,
     "metadata": {},
     "output_type": "execute_result"
    }
   ],
   "source": [
    "# Description of business attributes\n",
    "business_df.attributes[0:10]"
   ]
  },
  {
   "cell_type": "code",
   "execution_count": 24,
   "id": "6cc2a792",
   "metadata": {},
   "outputs": [],
   "source": [
    "# Extract attributes\n",
    "attributes_df = business_df.attributes.str.join('|').str.get_dummies()\n",
    "attributes_names = attributes_df.columns.tolist()"
   ]
  },
  {
   "cell_type": "code",
   "execution_count": 25,
   "id": "aa8a53c2",
   "metadata": {},
   "outputs": [
    {
     "data": {
      "text/plain": [
       "(150346, 39)"
      ]
     },
     "execution_count": 25,
     "metadata": {},
     "output_type": "execute_result"
    }
   ],
   "source": [
    "attributes_df.shape"
   ]
  },
  {
   "cell_type": "code",
   "execution_count": 26,
   "id": "f6aa6952",
   "metadata": {},
   "outputs": [],
   "source": [
    "attributes_df['is_attribute_None'] = business_df['attributes'].isnull()"
   ]
  },
  {
   "cell_type": "code",
   "execution_count": 27,
   "id": "05309b66",
   "metadata": {},
   "outputs": [
    {
     "data": {
      "text/plain": [
       "BusinessAcceptsCreditCards    0.796596\n",
       "BusinessParking               0.605836\n",
       "RestaurantsPriceRange2        0.567451\n",
       "BikeParking                   0.483139\n",
       "RestaurantsTakeOut            0.398128\n",
       "WiFi                          0.378553\n",
       "RestaurantsDelivery           0.374350\n",
       "GoodForKids                   0.355014\n",
       "OutdoorSeating                0.324598\n",
       "RestaurantsReservations       0.300952\n",
       "HasTV                         0.299868\n",
       "Ambience                      0.294514\n",
       "RestaurantsGoodForGroups      0.293789\n",
       "Alcohol                       0.287264\n",
       "ByAppointmentOnly             0.281610\n",
       "Caters                        0.266898\n",
       "RestaurantsAttire             0.261098\n",
       "NoiseLevel                    0.252704\n",
       "GoodForMeal                   0.193467\n",
       "WheelchairAccessible          0.192576\n",
       "RestaurantsTableService       0.132907\n",
       "DogsAllowed                   0.121613\n",
       "BusinessAcceptsBitcoin        0.115933\n",
       "HappyHour                     0.100907\n",
       "is_attribute_None             0.091416\n",
       "DriveThru                     0.051614\n",
       "Music                         0.050025\n",
       "AcceptsInsurance              0.037999\n",
       "BestNights                    0.037873\n",
       "CoatCheck                     0.037141\n",
       "GoodForDancing                0.030782\n",
       "Smoking                       0.030377\n",
       "BYOB                          0.029605\n",
       "Corkage                       0.023632\n",
       "BYOBCorkage                   0.009605\n",
       "HairSpecializesIn             0.007084\n",
       "AgesAllowed                   0.000858\n",
       "Open24Hours                   0.000259\n",
       "DietaryRestrictions           0.000206\n",
       "RestaurantsCounterService     0.000126\n",
       "dtype: float64"
      ]
     },
     "execution_count": 27,
     "metadata": {},
     "output_type": "execute_result"
    }
   ],
   "source": [
    "# Percent of business_ids having each category\n",
    "attributes_perc = attributes_df.sum() / attributes_df.shape[0]\n",
    "attributes_perc.sort_values(ascending=False)"
   ]
  },
  {
   "cell_type": "markdown",
   "id": "9ce886bb",
   "metadata": {},
   "source": [
    "## Problem 1: Binary classifier for business_df"
   ]
  },
  {
   "cell_type": "code",
   "execution_count": 28,
   "id": "3f3090a1",
   "metadata": {},
   "outputs": [
    {
     "data": {
      "text/plain": [
       "<AxesSubplot:title={'center':'Distribution of binary star ratings among all business'}, xlabel='stars_bin', ylabel='count'>"
      ]
     },
     "execution_count": 28,
     "metadata": {},
     "output_type": "execute_result"
    },
    {
     "data": {
      "image/png": "[encoded data removed]",
      "text/plain": [
       "<Figure size 432x288 with 1 Axes>"
      ]
     },
     "metadata": {
      "needs_background": "light"
     },
     "output_type": "display_data"
    }
   ],
   "source": [
    "# Create a binary variable. Stars >= 3.5 - good (1), otherwise - neutral or bad (0). \n",
    "business_bin_df = business_df.copy()\n",
    "business_bin_df['stars_bin'] = business_df.stars.apply(lambda x: 1 if x >= 3.5 else 0)\n",
    "plt.title('Distribution of binary star ratings among all business')\n",
    "sns.countplot(x=business_bin_df.stars_bin)"
   ]
  },
  {
   "cell_type": "markdown",
   "id": "5db18034",
   "metadata": {},
   "source": [
    "Alternatively, we can start from the star rating 4 to define a good business. Then, we get more balanced data, but here it is more the question of definition of the threshold based on human expectations and can be a research question for the future work. Also, in this case the class labels itself are separated in a more imbalanced way (5 bad classes vs. 3 good classes)."
   ]
  },
  {
   "cell_type": "code",
   "execution_count": 29,
   "id": "a97e22e5",
   "metadata": {},
   "outputs": [
    {
     "data": {
      "text/plain": [
       "<AxesSubplot:xlabel='stars', ylabel='count'>"
      ]
     },
     "execution_count": 29,
     "metadata": {},
     "output_type": "execute_result"
    },
    {
     "data": {
      "image/png": "[encoded data removed]",
      "text/plain": [
       "<Figure size 432x288 with 1 Axes>"
      ]
     },
     "metadata": {
      "needs_background": "light"
     },
     "output_type": "display_data"
    }
   ],
   "source": [
    "# P.S.: To get a balanced variant, we should put 3.5 in the neutral or bad value (0)\n",
    "sns.countplot(x=business_df.stars.apply(lambda x: 1 if x > 3.5 else 0))"
   ]
  },
  {
   "cell_type": "markdown",
   "id": "35d5aa86",
   "metadata": {},
   "source": [
    "### Feature Engineering"
   ]
  },
  {
   "cell_type": "markdown",
   "id": "4d35ad14",
   "metadata": {},
   "source": [
    "##### Add dummy categories and attributes to business_df"
   ]
  },
  {
   "cell_type": "code",
   "execution_count": 30,
   "id": "a36f2933",
   "metadata": {},
   "outputs": [],
   "source": [
    "# Select categories which occur more often than or equal to 0.01 frequency\n",
    "cat_col_choice = categories_perc[categories_perc >= 0.01].keys().tolist()\n",
    "cat_col_choice.append('is_category_None')\n",
    "categories_bin_df = categories_df[cat_col_choice]"
   ]
  },
  {
   "cell_type": "code",
   "execution_count": 31,
   "id": "d82efe4d",
   "metadata": {},
   "outputs": [
    {
     "data": {
      "text/plain": [
       "(150346, 90)"
      ]
     },
     "execution_count": 31,
     "metadata": {},
     "output_type": "execute_result"
    }
   ],
   "source": [
    "categories_bin_df.shape"
   ]
  },
  {
   "cell_type": "code",
   "execution_count": 32,
   "id": "4fdf548a",
   "metadata": {},
   "outputs": [],
   "source": [
    "business_bin_df = business_bin_df.join(categories_bin_df, how='inner')"
   ]
  },
  {
   "cell_type": "code",
   "execution_count": 33,
   "id": "a64ee119",
   "metadata": {},
   "outputs": [],
   "source": [
    "# Drop unnecessary categories\n",
    "business_bin_df.drop(['categories', 'review_count', 'is_open', 'name', 'address', 'city', 'postal_code', 'latitude', 'longitude', 'hours', 'stars'], axis=1,\n",
    "                    inplace=True)"
   ]
  },
  {
   "cell_type": "code",
   "execution_count": 34,
   "id": "bea2f99e",
   "metadata": {},
   "outputs": [
    {
     "data": {
      "text/html": [
       "<div>\n",
       "<style scoped>\n",
       "    .dataframe tbody tr th:only-of-type {\n",
       "        vertical-align: middle;\n",
       "    }\n",
       "\n",
       "    .dataframe tbody tr th {\n",
       "        vertical-align: top;\n",
       "    }\n",
       "\n",
       "    .dataframe thead th {\n",
       "        text-align: right;\n",
       "    }\n",
       "</style>\n",
       "<table border=\"1\" class=\"dataframe\">\n",
       "  <thead>\n",
       "    <tr style=\"text-align: right;\">\n",
       "      <th></th>\n",
       "      <th>business_id</th>\n",
       "      <th>state</th>\n",
       "      <th>attributes</th>\n",
       "      <th>stars_bin</th>\n",
       "      <th>Accessories</th>\n",
       "      <th>Active Life</th>\n",
       "      <th>American (New)</th>\n",
       "      <th>American (Traditional)</th>\n",
       "      <th>Apartments</th>\n",
       "      <th>Arts &amp; Entertainment</th>\n",
       "      <th>...</th>\n",
       "      <th>Sporting Goods</th>\n",
       "      <th>Sports Bars</th>\n",
       "      <th>Steakhouses</th>\n",
       "      <th>Sushi Bars</th>\n",
       "      <th>Tires</th>\n",
       "      <th>Venues &amp; Event Spaces</th>\n",
       "      <th>Waxing</th>\n",
       "      <th>Wine &amp; Spirits</th>\n",
       "      <th>Women's Clothing</th>\n",
       "      <th>is_category_None</th>\n",
       "    </tr>\n",
       "  </thead>\n",
       "  <tbody>\n",
       "    <tr>\n",
       "      <th>0</th>\n",
       "      <td>Pns2l4eNsfO8kk83dixA6A</td>\n",
       "      <td>CA</td>\n",
       "      <td>{'ByAppointmentOnly': 'True'}</td>\n",
       "      <td>1</td>\n",
       "      <td>0</td>\n",
       "      <td>0</td>\n",
       "      <td>0</td>\n",
       "      <td>0</td>\n",
       "      <td>0</td>\n",
       "      <td>0</td>\n",
       "      <td>...</td>\n",
       "      <td>0</td>\n",
       "      <td>0</td>\n",
       "      <td>0</td>\n",
       "      <td>0</td>\n",
       "      <td>0</td>\n",
       "      <td>0</td>\n",
       "      <td>0</td>\n",
       "      <td>0</td>\n",
       "      <td>0</td>\n",
       "      <td>False</td>\n",
       "    </tr>\n",
       "    <tr>\n",
       "      <th>1</th>\n",
       "      <td>mpf3x-BjTdTEA3yCZrAYPw</td>\n",
       "      <td>MO</td>\n",
       "      <td>{'BusinessAcceptsCreditCards': 'True'}</td>\n",
       "      <td>0</td>\n",
       "      <td>0</td>\n",
       "      <td>0</td>\n",
       "      <td>0</td>\n",
       "      <td>0</td>\n",
       "      <td>0</td>\n",
       "      <td>0</td>\n",
       "      <td>...</td>\n",
       "      <td>0</td>\n",
       "      <td>0</td>\n",
       "      <td>0</td>\n",
       "      <td>0</td>\n",
       "      <td>0</td>\n",
       "      <td>0</td>\n",
       "      <td>0</td>\n",
       "      <td>0</td>\n",
       "      <td>0</td>\n",
       "      <td>False</td>\n",
       "    </tr>\n",
       "  </tbody>\n",
       "</table>\n",
       "<p>2 rows × 94 columns</p>\n",
       "</div>"
      ],
      "text/plain": [
       "              business_id state                              attributes  \\\n",
       "0  Pns2l4eNsfO8kk83dixA6A    CA           {'ByAppointmentOnly': 'True'}   \n",
       "1  mpf3x-BjTdTEA3yCZrAYPw    MO  {'BusinessAcceptsCreditCards': 'True'}   \n",
       "\n",
       "   stars_bin  Accessories  Active Life  American (New)  \\\n",
       "0          1            0            0               0   \n",
       "1          0            0            0               0   \n",
       "\n",
       "   American (Traditional)  Apartments  Arts & Entertainment  ...  \\\n",
       "0                       0           0                     0  ...   \n",
       "1                       0           0                     0  ...   \n",
       "\n",
       "   Sporting Goods  Sports Bars  Steakhouses  Sushi Bars  Tires  \\\n",
       "0               0            0            0           0      0   \n",
       "1               0            0            0           0      0   \n",
       "\n",
       "   Venues & Event Spaces  Waxing  Wine & Spirits  Women's Clothing  \\\n",
       "0                      0       0               0                 0   \n",
       "1                      0       0               0                 0   \n",
       "\n",
       "   is_category_None  \n",
       "0             False  \n",
       "1             False  \n",
       "\n",
       "[2 rows x 94 columns]"
      ]
     },
     "execution_count": 34,
     "metadata": {},
     "output_type": "execute_result"
    }
   ],
   "source": [
    "business_bin_df.head(2)"
   ]
  },
  {
   "cell_type": "code",
   "execution_count": 35,
   "id": "99d112af",
   "metadata": {},
   "outputs": [
    {
     "data": {
      "text/plain": [
       "business_id              SMYXOLPyM95JvZ-oqnsWUA\n",
       "state                                        NJ\n",
       "attributes                                 None\n",
       "stars_bin                                     0\n",
       "Accessories                                   0\n",
       "                                  ...          \n",
       "Venues & Event Spaces                         0\n",
       "Waxing                                        0\n",
       "Wine & Spirits                                0\n",
       "Women's Clothing                              0\n",
       "is_category_None                           True\n",
       "Name: 1917, Length: 94, dtype: object"
      ]
     },
     "execution_count": 35,
     "metadata": {},
     "output_type": "execute_result"
    }
   ],
   "source": [
    "business_bin_df.loc[1917,:]"
   ]
  },
  {
   "cell_type": "code",
   "execution_count": 36,
   "id": "011666a3",
   "metadata": {},
   "outputs": [],
   "source": [
    "# Select attributes which occur more often than or equal to 0.01 frequency\n",
    "attributes_bin_df = attributes_df[attributes_perc[attributes_perc >= 0.01].keys()]"
   ]
  },
  {
   "cell_type": "code",
   "execution_count": 37,
   "id": "5d153944",
   "metadata": {},
   "outputs": [
    {
     "data": {
      "text/plain": [
       "(150346, 34)"
      ]
     },
     "execution_count": 37,
     "metadata": {},
     "output_type": "execute_result"
    }
   ],
   "source": [
    "attributes_bin_df.shape"
   ]
  },
  {
   "cell_type": "code",
   "execution_count": 38,
   "id": "e1955da1",
   "metadata": {},
   "outputs": [],
   "source": [
    "# Join data sets and drop 'attributes'\n",
    "business_bin_df = business_bin_df.join(attributes_bin_df, how='inner')\n",
    "business_bin_df.drop(['attributes'], axis=1, inplace=True)"
   ]
  },
  {
   "cell_type": "code",
   "execution_count": 39,
   "id": "fdb60b64",
   "metadata": {},
   "outputs": [
    {
     "data": {
      "text/html": [
       "<div>\n",
       "<style scoped>\n",
       "    .dataframe tbody tr th:only-of-type {\n",
       "        vertical-align: middle;\n",
       "    }\n",
       "\n",
       "    .dataframe tbody tr th {\n",
       "        vertical-align: top;\n",
       "    }\n",
       "\n",
       "    .dataframe thead th {\n",
       "        text-align: right;\n",
       "    }\n",
       "</style>\n",
       "<table border=\"1\" class=\"dataframe\">\n",
       "  <thead>\n",
       "    <tr style=\"text-align: right;\">\n",
       "      <th></th>\n",
       "      <th>business_id</th>\n",
       "      <th>state</th>\n",
       "      <th>stars_bin</th>\n",
       "      <th>Accessories</th>\n",
       "      <th>Active Life</th>\n",
       "      <th>American (New)</th>\n",
       "      <th>American (Traditional)</th>\n",
       "      <th>Apartments</th>\n",
       "      <th>Arts &amp; Entertainment</th>\n",
       "      <th>Asian Fusion</th>\n",
       "      <th>...</th>\n",
       "      <th>RestaurantsDelivery</th>\n",
       "      <th>RestaurantsGoodForGroups</th>\n",
       "      <th>RestaurantsPriceRange2</th>\n",
       "      <th>RestaurantsReservations</th>\n",
       "      <th>RestaurantsTableService</th>\n",
       "      <th>RestaurantsTakeOut</th>\n",
       "      <th>Smoking</th>\n",
       "      <th>WheelchairAccessible</th>\n",
       "      <th>WiFi</th>\n",
       "      <th>is_attribute_None</th>\n",
       "    </tr>\n",
       "  </thead>\n",
       "  <tbody>\n",
       "    <tr>\n",
       "      <th>0</th>\n",
       "      <td>Pns2l4eNsfO8kk83dixA6A</td>\n",
       "      <td>CA</td>\n",
       "      <td>1</td>\n",
       "      <td>0</td>\n",
       "      <td>0</td>\n",
       "      <td>0</td>\n",
       "      <td>0</td>\n",
       "      <td>0</td>\n",
       "      <td>0</td>\n",
       "      <td>0</td>\n",
       "      <td>...</td>\n",
       "      <td>0</td>\n",
       "      <td>0</td>\n",
       "      <td>0</td>\n",
       "      <td>0</td>\n",
       "      <td>0</td>\n",
       "      <td>0</td>\n",
       "      <td>0</td>\n",
       "      <td>0</td>\n",
       "      <td>0</td>\n",
       "      <td>False</td>\n",
       "    </tr>\n",
       "    <tr>\n",
       "      <th>1</th>\n",
       "      <td>mpf3x-BjTdTEA3yCZrAYPw</td>\n",
       "      <td>MO</td>\n",
       "      <td>0</td>\n",
       "      <td>0</td>\n",
       "      <td>0</td>\n",
       "      <td>0</td>\n",
       "      <td>0</td>\n",
       "      <td>0</td>\n",
       "      <td>0</td>\n",
       "      <td>0</td>\n",
       "      <td>...</td>\n",
       "      <td>0</td>\n",
       "      <td>0</td>\n",
       "      <td>0</td>\n",
       "      <td>0</td>\n",
       "      <td>0</td>\n",
       "      <td>0</td>\n",
       "      <td>0</td>\n",
       "      <td>0</td>\n",
       "      <td>0</td>\n",
       "      <td>False</td>\n",
       "    </tr>\n",
       "  </tbody>\n",
       "</table>\n",
       "<p>2 rows × 127 columns</p>\n",
       "</div>"
      ],
      "text/plain": [
       "              business_id state  stars_bin  Accessories  Active Life  \\\n",
       "0  Pns2l4eNsfO8kk83dixA6A    CA          1            0            0   \n",
       "1  mpf3x-BjTdTEA3yCZrAYPw    MO          0            0            0   \n",
       "\n",
       "   American (New)  American (Traditional)  Apartments  Arts & Entertainment  \\\n",
       "0               0                       0           0                     0   \n",
       "1               0                       0           0                     0   \n",
       "\n",
       "   Asian Fusion  ...  RestaurantsDelivery  RestaurantsGoodForGroups  \\\n",
       "0             0  ...                    0                         0   \n",
       "1             0  ...                    0                         0   \n",
       "\n",
       "   RestaurantsPriceRange2  RestaurantsReservations  RestaurantsTableService  \\\n",
       "0                       0                        0                        0   \n",
       "1                       0                        0                        0   \n",
       "\n",
       "   RestaurantsTakeOut  Smoking  WheelchairAccessible  WiFi  is_attribute_None  \n",
       "0                   0        0                     0     0              False  \n",
       "1                   0        0                     0     0              False  \n",
       "\n",
       "[2 rows x 127 columns]"
      ]
     },
     "execution_count": 39,
     "metadata": {},
     "output_type": "execute_result"
    }
   ],
   "source": [
    "business_bin_df.head(2)"
   ]
  },
  {
   "cell_type": "markdown",
   "id": "140c6164",
   "metadata": {},
   "source": [
    "##### Check NAs in the data set"
   ]
  },
  {
   "cell_type": "code",
   "execution_count": 40,
   "id": "7ef3b2b3",
   "metadata": {},
   "outputs": [
    {
     "data": {
      "text/plain": [
       "0"
      ]
     },
     "execution_count": 40,
     "metadata": {},
     "output_type": "execute_result"
    }
   ],
   "source": [
    "business_bin_df.isnull().sum().sum() # no NAs in the data set"
   ]
  },
  {
   "cell_type": "code",
   "execution_count": 41,
   "id": "a32422b9",
   "metadata": {},
   "outputs": [
    {
     "data": {
      "text/plain": [
       "<AxesSubplot:xlabel='state', ylabel='count'>"
      ]
     },
     "execution_count": 41,
     "metadata": {},
     "output_type": "execute_result"
    },
    {
     "data": {
      "image/png": "[encoded data removed]",
      "text/plain": [
       "<Figure size 432x288 with 1 Axes>"
      ]
     },
     "metadata": {
      "needs_background": "light"
     },
     "output_type": "display_data"
    }
   ],
   "source": [
    "# Compare how the sate distribution changes for good and bad star rating\n",
    "sns.countplot(x=business_bin_df.loc[business_bin_df['stars_bin'] == 1, \"state\"],\n",
    "             order = business_bin_df.loc[business_bin_df['stars_bin'] == 1, \"state\"].value_counts().index)"
   ]
  },
  {
   "cell_type": "code",
   "execution_count": 42,
   "id": "32def860",
   "metadata": {},
   "outputs": [
    {
     "data": {
      "text/plain": [
       "<AxesSubplot:xlabel='state', ylabel='count'>"
      ]
     },
     "execution_count": 42,
     "metadata": {},
     "output_type": "execute_result"
    },
    {
     "data": {
      "image/png": "[encoded data removed]",
      "text/plain": [
       "<Figure size 432x288 with 1 Axes>"
      ]
     },
     "metadata": {
      "needs_background": "light"
     },
     "output_type": "display_data"
    }
   ],
   "source": [
    "sns.countplot(x=business_bin_df.loc[business_bin_df['stars_bin'] == 0, \"state\"],\n",
    "             order = business_bin_df.loc[business_bin_df['stars_bin'] == 0, \"state\"].value_counts().index)"
   ]
  },
  {
   "cell_type": "markdown",
   "id": "efde183d",
   "metadata": {},
   "source": [
    "### Construction of Classifier "
   ]
  },
  {
   "cell_type": "code",
   "execution_count": 43,
   "id": "456dc7ba",
   "metadata": {},
   "outputs": [
    {
     "name": "stderr",
     "output_type": "stream",
     "text": [
      "C:\\Users\\Yuliya\\anaconda3\\lib\\site-packages\\xgboost\\compat.py:36: FutureWarning: pandas.Int64Index is deprecated and will be removed from pandas in a future version. Use pandas.Index with the appropriate dtype instead.\n",
      "  from pandas import MultiIndex, Int64Index\n"
     ]
    }
   ],
   "source": [
    "# Import sklearn and xgboost\n",
    "from sklearn.model_selection import train_test_split\n",
    "from sklearn.ensemble import RandomForestClassifier\n",
    "from sklearn.linear_model import LogisticRegressionCV\n",
    "from sklearn.metrics import accuracy_score, precision_score, recall_score, f1_score, roc_curve, auc, RocCurveDisplay, confusion_matrix\n",
    "from sklearn.model_selection import cross_validate, StratifiedKFold, GridSearchCV\n",
    "from sklearn.preprocessing import OneHotEncoder, MinMaxScaler\n",
    "from xgboost import XGBClassifier\n",
    "\n",
    "# For parallelization\n",
    "import multiprocessing\n",
    "\n",
    "# Detect number of cores for parallelization\n",
    "n_cores = multiprocessing.cpu_count() - 1"
   ]
  },
  {
   "cell_type": "markdown",
   "id": "a421d538",
   "metadata": {},
   "source": [
    "##### Create test and train data"
   ]
  },
  {
   "cell_type": "code",
   "execution_count": 44,
   "id": "dfbc20a0",
   "metadata": {},
   "outputs": [],
   "source": [
    "y = business_bin_df.stars_bin\n",
    "X = business_bin_df.drop(['stars_bin'], axis=1)\n",
    "\n",
    "# Train/test split (stratified because of imbalanced data set)\n",
    "X_train, X_test, y_train, y_test = train_test_split(X, y, train_size=0.8, test_size=0.2, random_state=1,\n",
    "                                                   stratify=y)"
   ]
  },
  {
   "cell_type": "code",
   "execution_count": 45,
   "id": "d4574c2a",
   "metadata": {},
   "outputs": [
    {
     "data": {
      "text/html": [
       "<div>\n",
       "<style scoped>\n",
       "    .dataframe tbody tr th:only-of-type {\n",
       "        vertical-align: middle;\n",
       "    }\n",
       "\n",
       "    .dataframe tbody tr th {\n",
       "        vertical-align: top;\n",
       "    }\n",
       "\n",
       "    .dataframe thead th {\n",
       "        text-align: right;\n",
       "    }\n",
       "</style>\n",
       "<table border=\"1\" class=\"dataframe\">\n",
       "  <thead>\n",
       "    <tr style=\"text-align: right;\">\n",
       "      <th></th>\n",
       "      <th>business_id</th>\n",
       "      <th>state</th>\n",
       "      <th>Accessories</th>\n",
       "      <th>Active Life</th>\n",
       "      <th>American (New)</th>\n",
       "      <th>American (Traditional)</th>\n",
       "      <th>Apartments</th>\n",
       "      <th>Arts &amp; Entertainment</th>\n",
       "      <th>Asian Fusion</th>\n",
       "      <th>Auto Parts &amp; Supplies</th>\n",
       "      <th>...</th>\n",
       "      <th>RestaurantsDelivery</th>\n",
       "      <th>RestaurantsGoodForGroups</th>\n",
       "      <th>RestaurantsPriceRange2</th>\n",
       "      <th>RestaurantsReservations</th>\n",
       "      <th>RestaurantsTableService</th>\n",
       "      <th>RestaurantsTakeOut</th>\n",
       "      <th>Smoking</th>\n",
       "      <th>WheelchairAccessible</th>\n",
       "      <th>WiFi</th>\n",
       "      <th>is_attribute_None</th>\n",
       "    </tr>\n",
       "  </thead>\n",
       "  <tbody>\n",
       "    <tr>\n",
       "      <th>126672</th>\n",
       "      <td>Zdl6M1oDa_B49MGrlqbBtQ</td>\n",
       "      <td>CA</td>\n",
       "      <td>0</td>\n",
       "      <td>0</td>\n",
       "      <td>0</td>\n",
       "      <td>0</td>\n",
       "      <td>0</td>\n",
       "      <td>0</td>\n",
       "      <td>0</td>\n",
       "      <td>0</td>\n",
       "      <td>...</td>\n",
       "      <td>0</td>\n",
       "      <td>0</td>\n",
       "      <td>1</td>\n",
       "      <td>0</td>\n",
       "      <td>0</td>\n",
       "      <td>0</td>\n",
       "      <td>0</td>\n",
       "      <td>1</td>\n",
       "      <td>0</td>\n",
       "      <td>False</td>\n",
       "    </tr>\n",
       "    <tr>\n",
       "      <th>110673</th>\n",
       "      <td>sOm2Pr1KtuHgW1sY4plF4Q</td>\n",
       "      <td>ID</td>\n",
       "      <td>0</td>\n",
       "      <td>1</td>\n",
       "      <td>0</td>\n",
       "      <td>0</td>\n",
       "      <td>0</td>\n",
       "      <td>0</td>\n",
       "      <td>0</td>\n",
       "      <td>0</td>\n",
       "      <td>...</td>\n",
       "      <td>0</td>\n",
       "      <td>0</td>\n",
       "      <td>1</td>\n",
       "      <td>0</td>\n",
       "      <td>0</td>\n",
       "      <td>0</td>\n",
       "      <td>0</td>\n",
       "      <td>0</td>\n",
       "      <td>0</td>\n",
       "      <td>False</td>\n",
       "    </tr>\n",
       "    <tr>\n",
       "      <th>29299</th>\n",
       "      <td>M3LZKA-tVFRJyPeKA3_2OA</td>\n",
       "      <td>CA</td>\n",
       "      <td>0</td>\n",
       "      <td>0</td>\n",
       "      <td>0</td>\n",
       "      <td>0</td>\n",
       "      <td>0</td>\n",
       "      <td>0</td>\n",
       "      <td>0</td>\n",
       "      <td>0</td>\n",
       "      <td>...</td>\n",
       "      <td>1</td>\n",
       "      <td>0</td>\n",
       "      <td>1</td>\n",
       "      <td>1</td>\n",
       "      <td>0</td>\n",
       "      <td>1</td>\n",
       "      <td>0</td>\n",
       "      <td>1</td>\n",
       "      <td>0</td>\n",
       "      <td>False</td>\n",
       "    </tr>\n",
       "    <tr>\n",
       "      <th>58149</th>\n",
       "      <td>xj1chhMopuxq2ctQdZi2SA</td>\n",
       "      <td>PA</td>\n",
       "      <td>0</td>\n",
       "      <td>0</td>\n",
       "      <td>0</td>\n",
       "      <td>0</td>\n",
       "      <td>0</td>\n",
       "      <td>0</td>\n",
       "      <td>0</td>\n",
       "      <td>0</td>\n",
       "      <td>...</td>\n",
       "      <td>0</td>\n",
       "      <td>0</td>\n",
       "      <td>1</td>\n",
       "      <td>0</td>\n",
       "      <td>0</td>\n",
       "      <td>0</td>\n",
       "      <td>0</td>\n",
       "      <td>0</td>\n",
       "      <td>0</td>\n",
       "      <td>False</td>\n",
       "    </tr>\n",
       "    <tr>\n",
       "      <th>33534</th>\n",
       "      <td>FEXhWNCMkv22qG04E83Qjg</td>\n",
       "      <td>LA</td>\n",
       "      <td>0</td>\n",
       "      <td>0</td>\n",
       "      <td>0</td>\n",
       "      <td>0</td>\n",
       "      <td>0</td>\n",
       "      <td>0</td>\n",
       "      <td>0</td>\n",
       "      <td>0</td>\n",
       "      <td>...</td>\n",
       "      <td>1</td>\n",
       "      <td>1</td>\n",
       "      <td>1</td>\n",
       "      <td>1</td>\n",
       "      <td>1</td>\n",
       "      <td>1</td>\n",
       "      <td>0</td>\n",
       "      <td>1</td>\n",
       "      <td>1</td>\n",
       "      <td>False</td>\n",
       "    </tr>\n",
       "  </tbody>\n",
       "</table>\n",
       "<p>5 rows × 126 columns</p>\n",
       "</div>"
      ],
      "text/plain": [
       "                   business_id state  Accessories  Active Life  \\\n",
       "126672  Zdl6M1oDa_B49MGrlqbBtQ    CA            0            0   \n",
       "110673  sOm2Pr1KtuHgW1sY4plF4Q    ID            0            1   \n",
       "29299   M3LZKA-tVFRJyPeKA3_2OA    CA            0            0   \n",
       "58149   xj1chhMopuxq2ctQdZi2SA    PA            0            0   \n",
       "33534   FEXhWNCMkv22qG04E83Qjg    LA            0            0   \n",
       "\n",
       "        American (New)  American (Traditional)  Apartments  \\\n",
       "126672               0                       0           0   \n",
       "110673               0                       0           0   \n",
       "29299                0                       0           0   \n",
       "58149                0                       0           0   \n",
       "33534                0                       0           0   \n",
       "\n",
       "        Arts & Entertainment  Asian Fusion  Auto Parts & Supplies  ...  \\\n",
       "126672                     0             0                      0  ...   \n",
       "110673                     0             0                      0  ...   \n",
       "29299                      0             0                      0  ...   \n",
       "58149                      0             0                      0  ...   \n",
       "33534                      0             0                      0  ...   \n",
       "\n",
       "        RestaurantsDelivery  RestaurantsGoodForGroups  RestaurantsPriceRange2  \\\n",
       "126672                    0                         0                       1   \n",
       "110673                    0                         0                       1   \n",
       "29299                     1                         0                       1   \n",
       "58149                     0                         0                       1   \n",
       "33534                     1                         1                       1   \n",
       "\n",
       "        RestaurantsReservations  RestaurantsTableService  RestaurantsTakeOut  \\\n",
       "126672                        0                        0                   0   \n",
       "110673                        0                        0                   0   \n",
       "29299                         1                        0                   1   \n",
       "58149                         0                        0                   0   \n",
       "33534                         1                        1                   1   \n",
       "\n",
       "        Smoking  WheelchairAccessible  WiFi  is_attribute_None  \n",
       "126672        0                     1     0              False  \n",
       "110673        0                     0     0              False  \n",
       "29299         0                     1     0              False  \n",
       "58149         0                     0     0              False  \n",
       "33534         0                     1     1              False  \n",
       "\n",
       "[5 rows x 126 columns]"
      ]
     },
     "execution_count": 45,
     "metadata": {},
     "output_type": "execute_result"
    }
   ],
   "source": [
    "X_train.head()"
   ]
  },
  {
   "cell_type": "code",
   "execution_count": 46,
   "id": "5b482bb1",
   "metadata": {},
   "outputs": [
    {
     "name": "stdout",
     "output_type": "stream",
     "text": [
      "Split results:\n",
      "Train:\n",
      "1    0.672661\n",
      "0    0.327339\n",
      "Name: stars_bin, dtype: float64\n",
      "Test:\n",
      "1    0.672664\n",
      "0    0.327336\n",
      "Name: stars_bin, dtype: float64\n"
     ]
    }
   ],
   "source": [
    "print('Split results:')\n",
    "print('Train:\\n{}'.format(y_train.value_counts(normalize=True)))\n",
    "print('Test:\\n{}'.format(y_test.value_counts(normalize=True)))"
   ]
  },
  {
   "cell_type": "markdown",
   "id": "2ea94d79",
   "metadata": {},
   "source": [
    "##### Transform categorical columns with one-hot encoding"
   ]
  },
  {
   "cell_type": "code",
   "execution_count": 47,
   "id": "1b2f1808",
   "metadata": {
    "scrolled": true
   },
   "outputs": [],
   "source": [
    "# One-hot encoder (will used for states)\n",
    "oh_encoder = OneHotEncoder(handle_unknown='ignore', sparse=False)\n",
    "\n",
    "# One-hot encoding for states\n",
    "oh_cols_train = pd.DataFrame(oh_encoder.fit_transform(X_train[['state']]), columns=oh_encoder.get_feature_names_out())\n",
    "oh_cols_test = pd.DataFrame(oh_encoder.transform(X_test[['state']]), columns=oh_encoder.get_feature_names_out())\n",
    "\n",
    "# Function for merging categorical columns with the data set\n",
    "def data_oh_merge(data_set, oh_cols):\n",
    "    # Get index\n",
    "    oh_cols.index = data_set.index\n",
    "    # Remove categorical columns\n",
    "    data_set.drop(['state'], axis=1, inplace=True)\n",
    "    # Merge encoding with the data set \n",
    "    data_set_oh = data_set.join(oh_cols, how='inner')\n",
    "    # Drop business_id\n",
    "    data_set_oh.drop(['business_id'], axis=1, inplace=True)\n",
    "    return data_set_oh\n",
    "\n",
    "X_train_final = data_oh_merge(data_set=X_train, oh_cols=oh_cols_train)\n",
    "X_test_final = data_oh_merge(data_set=X_test, oh_cols=oh_cols_test)"
   ]
  },
  {
   "cell_type": "code",
   "execution_count": 48,
   "id": "729f2b8e",
   "metadata": {},
   "outputs": [
    {
     "name": "stdout",
     "output_type": "stream",
     "text": [
      "(120276, 125)\n",
      "(30070, 125)\n",
      "(120276, 150)\n",
      "(30070, 150)\n"
     ]
    }
   ],
   "source": [
    "print(X_train.shape)\n",
    "print(X_test.shape)\n",
    "print(X_train_final.shape)\n",
    "print(X_test_final.shape)"
   ]
  },
  {
   "cell_type": "code",
   "execution_count": 49,
   "id": "101ed1e8",
   "metadata": {},
   "outputs": [
    {
     "data": {
      "text/html": [
       "<div>\n",
       "<style scoped>\n",
       "    .dataframe tbody tr th:only-of-type {\n",
       "        vertical-align: middle;\n",
       "    }\n",
       "\n",
       "    .dataframe tbody tr th {\n",
       "        vertical-align: top;\n",
       "    }\n",
       "\n",
       "    .dataframe thead th {\n",
       "        text-align: right;\n",
       "    }\n",
       "</style>\n",
       "<table border=\"1\" class=\"dataframe\">\n",
       "  <thead>\n",
       "    <tr style=\"text-align: right;\">\n",
       "      <th></th>\n",
       "      <th>Accessories</th>\n",
       "      <th>Active Life</th>\n",
       "      <th>American (New)</th>\n",
       "      <th>American (Traditional)</th>\n",
       "      <th>Apartments</th>\n",
       "      <th>Arts &amp; Entertainment</th>\n",
       "      <th>Asian Fusion</th>\n",
       "      <th>Auto Parts &amp; Supplies</th>\n",
       "      <th>Auto Repair</th>\n",
       "      <th>Automotive</th>\n",
       "      <th>...</th>\n",
       "      <th>state_NV</th>\n",
       "      <th>state_PA</th>\n",
       "      <th>state_SD</th>\n",
       "      <th>state_TN</th>\n",
       "      <th>state_TX</th>\n",
       "      <th>state_UT</th>\n",
       "      <th>state_VI</th>\n",
       "      <th>state_VT</th>\n",
       "      <th>state_WA</th>\n",
       "      <th>state_XMS</th>\n",
       "    </tr>\n",
       "  </thead>\n",
       "  <tbody>\n",
       "    <tr>\n",
       "      <th>126672</th>\n",
       "      <td>0</td>\n",
       "      <td>0</td>\n",
       "      <td>0</td>\n",
       "      <td>0</td>\n",
       "      <td>0</td>\n",
       "      <td>0</td>\n",
       "      <td>0</td>\n",
       "      <td>0</td>\n",
       "      <td>0</td>\n",
       "      <td>0</td>\n",
       "      <td>...</td>\n",
       "      <td>0.0</td>\n",
       "      <td>0.0</td>\n",
       "      <td>0.0</td>\n",
       "      <td>0.0</td>\n",
       "      <td>0.0</td>\n",
       "      <td>0.0</td>\n",
       "      <td>0.0</td>\n",
       "      <td>0.0</td>\n",
       "      <td>0.0</td>\n",
       "      <td>0.0</td>\n",
       "    </tr>\n",
       "    <tr>\n",
       "      <th>110673</th>\n",
       "      <td>0</td>\n",
       "      <td>1</td>\n",
       "      <td>0</td>\n",
       "      <td>0</td>\n",
       "      <td>0</td>\n",
       "      <td>0</td>\n",
       "      <td>0</td>\n",
       "      <td>0</td>\n",
       "      <td>0</td>\n",
       "      <td>0</td>\n",
       "      <td>...</td>\n",
       "      <td>0.0</td>\n",
       "      <td>0.0</td>\n",
       "      <td>0.0</td>\n",
       "      <td>0.0</td>\n",
       "      <td>0.0</td>\n",
       "      <td>0.0</td>\n",
       "      <td>0.0</td>\n",
       "      <td>0.0</td>\n",
       "      <td>0.0</td>\n",
       "      <td>0.0</td>\n",
       "    </tr>\n",
       "  </tbody>\n",
       "</table>\n",
       "<p>2 rows × 150 columns</p>\n",
       "</div>"
      ],
      "text/plain": [
       "        Accessories  Active Life  American (New)  American (Traditional)  \\\n",
       "126672            0            0               0                       0   \n",
       "110673            0            1               0                       0   \n",
       "\n",
       "        Apartments  Arts & Entertainment  Asian Fusion  Auto Parts & Supplies  \\\n",
       "126672           0                     0             0                      0   \n",
       "110673           0                     0             0                      0   \n",
       "\n",
       "        Auto Repair  Automotive  ...  state_NV  state_PA  state_SD  state_TN  \\\n",
       "126672            0           0  ...       0.0       0.0       0.0       0.0   \n",
       "110673            0           0  ...       0.0       0.0       0.0       0.0   \n",
       "\n",
       "        state_TX  state_UT  state_VI  state_VT  state_WA  state_XMS  \n",
       "126672       0.0       0.0       0.0       0.0       0.0        0.0  \n",
       "110673       0.0       0.0       0.0       0.0       0.0        0.0  \n",
       "\n",
       "[2 rows x 150 columns]"
      ]
     },
     "execution_count": 49,
     "metadata": {},
     "output_type": "execute_result"
    }
   ],
   "source": [
    "X_train_final.head(2)"
   ]
  },
  {
   "cell_type": "markdown",
   "id": "817adba2",
   "metadata": {},
   "source": [
    "##### Logistic regression"
   ]
  },
  {
   "cell_type": "code",
   "execution_count": 50,
   "id": "5b93c4e2",
   "metadata": {},
   "outputs": [
    {
     "data": {
      "text/plain": [
       "LogisticRegressionCV(Cs=[0.25, 0.5, 1, 1.5, 2],\n",
       "                     cv=StratifiedKFold(n_splits=3, random_state=1, shuffle=True),\n",
       "                     penalty='l1', random_state=1, scoring='roc_auc',\n",
       "                     solver='liblinear')"
      ]
     },
     "execution_count": 50,
     "metadata": {},
     "output_type": "execute_result"
    }
   ],
   "source": [
    "# Stratified cross-validation\n",
    "stratifiedkf = StratifiedKFold(n_splits=3, random_state=1,shuffle=True)\n",
    "\n",
    "#  Cs grid\n",
    "# Cs_grid = [100, 10, 1, .1, .01, .001]\n",
    "Cs_grid = [0.25, 0.5, 1, 1.5, 2]\n",
    "\n",
    "# Logistic classifier with L1 regularization\n",
    "lr_model = LogisticRegressionCV(Cs=Cs_grid,random_state=1, penalty='l1', solver='liblinear', cv=stratifiedkf, scoring='roc_auc')\n",
    "lr_model.fit(X=X_train_final, y=y_train)"
   ]
  },
  {
   "cell_type": "code",
   "execution_count": 51,
   "id": "bb431c81",
   "metadata": {},
   "outputs": [
    {
     "name": "stdout",
     "output_type": "stream",
     "text": [
      "\n",
      "Accuracy: 0.7238,\n",
      "Precision: 0.7374,\n",
      "Recall: 0.9154,\n",
      "F1 score: 0.8168\n",
      "AUC: 0.6227\n"
     ]
    }
   ],
   "source": [
    "# Prediction\n",
    "y_pred = lr_model.predict(X_test_final)\n",
    "print('\\nAccuracy: {:.4f},\\nPrecision: {:.4f},\\nRecall: {:.4f},\\nF1 score: {:.4f}'.format(\n",
    "    accuracy_score(y_test, y_pred), precision_score(y_test, y_pred), recall_score(y_test, y_pred), f1_score(y_test, y_pred)))\n",
    "fpr, tpr, thresholds = roc_curve(y_true=y_test, y_score=y_pred)\n",
    "print('AUC: {:.4f}'.format(auc(fpr, tpr)))"
   ]
  },
  {
   "cell_type": "code",
   "execution_count": 52,
   "id": "2ac1d6d0",
   "metadata": {},
   "outputs": [
    {
     "data": {
      "text/plain": [
       "array([1.])"
      ]
     },
     "execution_count": 52,
     "metadata": {},
     "output_type": "execute_result"
    }
   ],
   "source": [
    "# Best hyperparameter\n",
    "lr_model.C_"
   ]
  },
  {
   "cell_type": "code",
   "execution_count": 53,
   "id": "7299b706",
   "metadata": {},
   "outputs": [
    {
     "name": "stdout",
     "output_type": "stream",
     "text": [
      "ROC curve\n"
     ]
    },
    {
     "data": {
      "image/png": "[encoded data removed]",
      "text/plain": [
       "<Figure size 432x288 with 1 Axes>"
      ]
     },
     "metadata": {
      "needs_background": "light"
     },
     "output_type": "display_data"
    }
   ],
   "source": [
    "# ROC curve\n",
    "print('ROC curve')\n",
    "roc_display = RocCurveDisplay(fpr=fpr, tpr=tpr).plot()"
   ]
  },
  {
   "cell_type": "code",
   "execution_count": 54,
   "id": "a21c38e0",
   "metadata": {},
   "outputs": [
    {
     "data": {
      "text/plain": [
       "array([[ 3249,  6594],\n",
       "       [ 1711, 18516]], dtype=int64)"
      ]
     },
     "execution_count": 54,
     "metadata": {},
     "output_type": "execute_result"
    }
   ],
   "source": [
    "# Confusion matrix\n",
    "confusion_matrix(y_test, y_pred)"
   ]
  },
  {
   "cell_type": "code",
   "execution_count": 55,
   "id": "dc2475f6",
   "metadata": {},
   "outputs": [
    {
     "name": "stdout",
     "output_type": "stream",
     "text": [
      "Top 15 features\n"
     ]
    },
    {
     "data": {
      "text/plain": [
       "<AxesSubplot:>"
      ]
     },
     "execution_count": 55,
     "metadata": {},
     "output_type": "execute_result"
    },
    {
     "data": {
      "image/png": "[encoded data removed]",
      "text/plain": [
       "<Figure size 720x720 with 1 Axes>"
      ]
     },
     "metadata": {
      "needs_background": "light"
     },
     "output_type": "display_data"
    }
   ],
   "source": [
    "# Features\n",
    "sorted_index_lr = np.abs(lr_model.coef_[0]).argsort()[::-1][:15]\n",
    "sorted_index_pos_lr = lr_model.coef_[0].argsort()[::-1][:20]\n",
    "sorted_index_neg_lr = lr_model.coef_[0].argsort()[:20]\n",
    "print('Top 15 features')\n",
    "plt.figure(figsize=(10, 10))\n",
    "sns.barplot(y=X_train_final.columns[sorted_index_lr], x=lr_model.coef_[0][sorted_index_lr], orient='h')"
   ]
  },
  {
   "cell_type": "code",
   "execution_count": 56,
   "id": "5aa4364b",
   "metadata": {},
   "outputs": [
    {
     "name": "stdout",
     "output_type": "stream",
     "text": [
      "Top 15 features with positive coefficients\n"
     ]
    },
    {
     "data": {
      "text/plain": [
       "<AxesSubplot:>"
      ]
     },
     "execution_count": 56,
     "metadata": {},
     "output_type": "execute_result"
    },
    {
     "data": {
      "image/png": "[encoded data removed]",
      "text/plain": [
       "<Figure size 720x720 with 1 Axes>"
      ]
     },
     "metadata": {
      "needs_background": "light"
     },
     "output_type": "display_data"
    }
   ],
   "source": [
    "plt.figure(figsize=(10, 10))\n",
    "print('Top 15 features with positive coefficients')\n",
    "sns.barplot(y=X_train_final.columns[sorted_index_pos_lr], x=lr_model.coef_[0][sorted_index_pos_lr], orient='h')"
   ]
  },
  {
   "cell_type": "code",
   "execution_count": 57,
   "id": "d0048b60",
   "metadata": {},
   "outputs": [
    {
     "name": "stdout",
     "output_type": "stream",
     "text": [
      "Top 15 features with negative coefficients\n"
     ]
    },
    {
     "data": {
      "text/plain": [
       "<AxesSubplot:>"
      ]
     },
     "execution_count": 57,
     "metadata": {},
     "output_type": "execute_result"
    },
    {
     "data": {
      "image/png": "[encoded data removed]",
      "text/plain": [
       "<Figure size 720x720 with 1 Axes>"
      ]
     },
     "metadata": {
      "needs_background": "light"
     },
     "output_type": "display_data"
    }
   ],
   "source": [
    "plt.figure(figsize=(10, 10))\n",
    "print('Top 15 features with negative coefficients')\n",
    "sns.barplot(y=X_train_final.columns[sorted_index_neg_lr], x=lr_model.coef_[0][sorted_index_neg_lr], orient='h')"
   ]
  },
  {
   "cell_type": "markdown",
   "id": "9047978d",
   "metadata": {},
   "source": [
    "##### XGBoost"
   ]
  },
  {
   "cell_type": "code",
   "execution_count": 58,
   "id": "78918b11",
   "metadata": {},
   "outputs": [
    {
     "name": "stdout",
     "output_type": "stream",
     "text": [
      "Fitting 3 folds for each of 15 candidates, totalling 45 fits\n"
     ]
    },
    {
     "name": "stderr",
     "output_type": "stream",
     "text": [
      "C:\\Users\\Yuliya\\anaconda3\\lib\\site-packages\\xgboost\\data.py:262: FutureWarning: pandas.Int64Index is deprecated and will be removed from pandas in a future version. Use pandas.Index with the appropriate dtype instead.\n",
      "  elif isinstance(data.columns, (pd.Int64Index, pd.RangeIndex)):\n",
      "C:\\Users\\Yuliya\\anaconda3\\lib\\site-packages\\xgboost\\data.py:262: FutureWarning: pandas.Int64Index is deprecated and will be removed from pandas in a future version. Use pandas.Index with the appropriate dtype instead.\n",
      "  elif isinstance(data.columns, (pd.Int64Index, pd.RangeIndex)):\n"
     ]
    },
    {
     "name": "stdout",
     "output_type": "stream",
     "text": [
      "[CV 1/3] END .......eta=0.4, min_child_weight=1;, score=0.763 total time=   7.3s\n"
     ]
    },
    {
     "name": "stderr",
     "output_type": "stream",
     "text": [
      "C:\\Users\\Yuliya\\anaconda3\\lib\\site-packages\\xgboost\\data.py:262: FutureWarning: pandas.Int64Index is deprecated and will be removed from pandas in a future version. Use pandas.Index with the appropriate dtype instead.\n",
      "  elif isinstance(data.columns, (pd.Int64Index, pd.RangeIndex)):\n",
      "C:\\Users\\Yuliya\\anaconda3\\lib\\site-packages\\xgboost\\data.py:262: FutureWarning: pandas.Int64Index is deprecated and will be removed from pandas in a future version. Use pandas.Index with the appropriate dtype instead.\n",
      "  elif isinstance(data.columns, (pd.Int64Index, pd.RangeIndex)):\n"
     ]
    },
    {
     "name": "stdout",
     "output_type": "stream",
     "text": [
      "[CV 2/3] END .......eta=0.4, min_child_weight=1;, score=0.767 total time=   7.2s\n"
     ]
    },
    {
     "name": "stderr",
     "output_type": "stream",
     "text": [
      "C:\\Users\\Yuliya\\anaconda3\\lib\\site-packages\\xgboost\\data.py:262: FutureWarning: pandas.Int64Index is deprecated and will be removed from pandas in a future version. Use pandas.Index with the appropriate dtype instead.\n",
      "  elif isinstance(data.columns, (pd.Int64Index, pd.RangeIndex)):\n",
      "C:\\Users\\Yuliya\\anaconda3\\lib\\site-packages\\xgboost\\data.py:262: FutureWarning: pandas.Int64Index is deprecated and will be removed from pandas in a future version. Use pandas.Index with the appropriate dtype instead.\n",
      "  elif isinstance(data.columns, (pd.Int64Index, pd.RangeIndex)):\n"
     ]
    },
    {
     "name": "stdout",
     "output_type": "stream",
     "text": [
      "[CV 3/3] END .......eta=0.4, min_child_weight=1;, score=0.764 total time=   7.4s\n"
     ]
    },
    {
     "name": "stderr",
     "output_type": "stream",
     "text": [
      "C:\\Users\\Yuliya\\anaconda3\\lib\\site-packages\\xgboost\\data.py:262: FutureWarning: pandas.Int64Index is deprecated and will be removed from pandas in a future version. Use pandas.Index with the appropriate dtype instead.\n",
      "  elif isinstance(data.columns, (pd.Int64Index, pd.RangeIndex)):\n",
      "C:\\Users\\Yuliya\\anaconda3\\lib\\site-packages\\xgboost\\data.py:262: FutureWarning: pandas.Int64Index is deprecated and will be removed from pandas in a future version. Use pandas.Index with the appropriate dtype instead.\n",
      "  elif isinstance(data.columns, (pd.Int64Index, pd.RangeIndex)):\n"
     ]
    },
    {
     "name": "stdout",
     "output_type": "stream",
     "text": [
      "[CV 1/3] END .......eta=0.4, min_child_weight=2;, score=0.765 total time=   7.6s\n"
     ]
    },
    {
     "name": "stderr",
     "output_type": "stream",
     "text": [
      "C:\\Users\\Yuliya\\anaconda3\\lib\\site-packages\\xgboost\\data.py:262: FutureWarning: pandas.Int64Index is deprecated and will be removed from pandas in a future version. Use pandas.Index with the appropriate dtype instead.\n",
      "  elif isinstance(data.columns, (pd.Int64Index, pd.RangeIndex)):\n",
      "C:\\Users\\Yuliya\\anaconda3\\lib\\site-packages\\xgboost\\data.py:262: FutureWarning: pandas.Int64Index is deprecated and will be removed from pandas in a future version. Use pandas.Index with the appropriate dtype instead.\n",
      "  elif isinstance(data.columns, (pd.Int64Index, pd.RangeIndex)):\n"
     ]
    },
    {
     "name": "stdout",
     "output_type": "stream",
     "text": [
      "[CV 2/3] END .......eta=0.4, min_child_weight=2;, score=0.768 total time=   7.3s\n"
     ]
    },
    {
     "name": "stderr",
     "output_type": "stream",
     "text": [
      "C:\\Users\\Yuliya\\anaconda3\\lib\\site-packages\\xgboost\\data.py:262: FutureWarning: pandas.Int64Index is deprecated and will be removed from pandas in a future version. Use pandas.Index with the appropriate dtype instead.\n",
      "  elif isinstance(data.columns, (pd.Int64Index, pd.RangeIndex)):\n",
      "C:\\Users\\Yuliya\\anaconda3\\lib\\site-packages\\xgboost\\data.py:262: FutureWarning: pandas.Int64Index is deprecated and will be removed from pandas in a future version. Use pandas.Index with the appropriate dtype instead.\n",
      "  elif isinstance(data.columns, (pd.Int64Index, pd.RangeIndex)):\n"
     ]
    },
    {
     "name": "stdout",
     "output_type": "stream",
     "text": [
      "[CV 3/3] END .......eta=0.4, min_child_weight=2;, score=0.764 total time=   7.1s\n"
     ]
    },
    {
     "name": "stderr",
     "output_type": "stream",
     "text": [
      "C:\\Users\\Yuliya\\anaconda3\\lib\\site-packages\\xgboost\\data.py:262: FutureWarning: pandas.Int64Index is deprecated and will be removed from pandas in a future version. Use pandas.Index with the appropriate dtype instead.\n",
      "  elif isinstance(data.columns, (pd.Int64Index, pd.RangeIndex)):\n",
      "C:\\Users\\Yuliya\\anaconda3\\lib\\site-packages\\xgboost\\data.py:262: FutureWarning: pandas.Int64Index is deprecated and will be removed from pandas in a future version. Use pandas.Index with the appropriate dtype instead.\n",
      "  elif isinstance(data.columns, (pd.Int64Index, pd.RangeIndex)):\n"
     ]
    },
    {
     "name": "stdout",
     "output_type": "stream",
     "text": [
      "[CV 1/3] END .......eta=0.4, min_child_weight=3;, score=0.764 total time=   7.0s\n"
     ]
    },
    {
     "name": "stderr",
     "output_type": "stream",
     "text": [
      "C:\\Users\\Yuliya\\anaconda3\\lib\\site-packages\\xgboost\\data.py:262: FutureWarning: pandas.Int64Index is deprecated and will be removed from pandas in a future version. Use pandas.Index with the appropriate dtype instead.\n",
      "  elif isinstance(data.columns, (pd.Int64Index, pd.RangeIndex)):\n",
      "C:\\Users\\Yuliya\\anaconda3\\lib\\site-packages\\xgboost\\data.py:262: FutureWarning: pandas.Int64Index is deprecated and will be removed from pandas in a future version. Use pandas.Index with the appropriate dtype instead.\n",
      "  elif isinstance(data.columns, (pd.Int64Index, pd.RangeIndex)):\n"
     ]
    },
    {
     "name": "stdout",
     "output_type": "stream",
     "text": [
      "[CV 2/3] END .......eta=0.4, min_child_weight=3;, score=0.769 total time=   7.1s\n"
     ]
    },
    {
     "name": "stderr",
     "output_type": "stream",
     "text": [
      "C:\\Users\\Yuliya\\anaconda3\\lib\\site-packages\\xgboost\\data.py:262: FutureWarning: pandas.Int64Index is deprecated and will be removed from pandas in a future version. Use pandas.Index with the appropriate dtype instead.\n",
      "  elif isinstance(data.columns, (pd.Int64Index, pd.RangeIndex)):\n",
      "C:\\Users\\Yuliya\\anaconda3\\lib\\site-packages\\xgboost\\data.py:262: FutureWarning: pandas.Int64Index is deprecated and will be removed from pandas in a future version. Use pandas.Index with the appropriate dtype instead.\n",
      "  elif isinstance(data.columns, (pd.Int64Index, pd.RangeIndex)):\n"
     ]
    },
    {
     "name": "stdout",
     "output_type": "stream",
     "text": [
      "[CV 3/3] END .......eta=0.4, min_child_weight=3;, score=0.764 total time=   7.1s\n"
     ]
    },
    {
     "name": "stderr",
     "output_type": "stream",
     "text": [
      "C:\\Users\\Yuliya\\anaconda3\\lib\\site-packages\\xgboost\\data.py:262: FutureWarning: pandas.Int64Index is deprecated and will be removed from pandas in a future version. Use pandas.Index with the appropriate dtype instead.\n",
      "  elif isinstance(data.columns, (pd.Int64Index, pd.RangeIndex)):\n",
      "C:\\Users\\Yuliya\\anaconda3\\lib\\site-packages\\xgboost\\data.py:262: FutureWarning: pandas.Int64Index is deprecated and will be removed from pandas in a future version. Use pandas.Index with the appropriate dtype instead.\n",
      "  elif isinstance(data.columns, (pd.Int64Index, pd.RangeIndex)):\n"
     ]
    },
    {
     "name": "stdout",
     "output_type": "stream",
     "text": [
      "[CV 1/3] END .......eta=0.4, min_child_weight=4;, score=0.766 total time=   6.9s\n"
     ]
    },
    {
     "name": "stderr",
     "output_type": "stream",
     "text": [
      "C:\\Users\\Yuliya\\anaconda3\\lib\\site-packages\\xgboost\\data.py:262: FutureWarning: pandas.Int64Index is deprecated and will be removed from pandas in a future version. Use pandas.Index with the appropriate dtype instead.\n",
      "  elif isinstance(data.columns, (pd.Int64Index, pd.RangeIndex)):\n",
      "C:\\Users\\Yuliya\\anaconda3\\lib\\site-packages\\xgboost\\data.py:262: FutureWarning: pandas.Int64Index is deprecated and will be removed from pandas in a future version. Use pandas.Index with the appropriate dtype instead.\n",
      "  elif isinstance(data.columns, (pd.Int64Index, pd.RangeIndex)):\n"
     ]
    },
    {
     "name": "stdout",
     "output_type": "stream",
     "text": [
      "[CV 2/3] END .......eta=0.4, min_child_weight=4;, score=0.768 total time=   6.9s\n"
     ]
    },
    {
     "name": "stderr",
     "output_type": "stream",
     "text": [
      "C:\\Users\\Yuliya\\anaconda3\\lib\\site-packages\\xgboost\\data.py:262: FutureWarning: pandas.Int64Index is deprecated and will be removed from pandas in a future version. Use pandas.Index with the appropriate dtype instead.\n",
      "  elif isinstance(data.columns, (pd.Int64Index, pd.RangeIndex)):\n",
      "C:\\Users\\Yuliya\\anaconda3\\lib\\site-packages\\xgboost\\data.py:262: FutureWarning: pandas.Int64Index is deprecated and will be removed from pandas in a future version. Use pandas.Index with the appropriate dtype instead.\n",
      "  elif isinstance(data.columns, (pd.Int64Index, pd.RangeIndex)):\n"
     ]
    },
    {
     "name": "stdout",
     "output_type": "stream",
     "text": [
      "[CV 3/3] END .......eta=0.4, min_child_weight=4;, score=0.765 total time=   6.8s\n"
     ]
    },
    {
     "name": "stderr",
     "output_type": "stream",
     "text": [
      "C:\\Users\\Yuliya\\anaconda3\\lib\\site-packages\\xgboost\\data.py:262: FutureWarning: pandas.Int64Index is deprecated and will be removed from pandas in a future version. Use pandas.Index with the appropriate dtype instead.\n",
      "  elif isinstance(data.columns, (pd.Int64Index, pd.RangeIndex)):\n",
      "C:\\Users\\Yuliya\\anaconda3\\lib\\site-packages\\xgboost\\data.py:262: FutureWarning: pandas.Int64Index is deprecated and will be removed from pandas in a future version. Use pandas.Index with the appropriate dtype instead.\n",
      "  elif isinstance(data.columns, (pd.Int64Index, pd.RangeIndex)):\n"
     ]
    },
    {
     "name": "stdout",
     "output_type": "stream",
     "text": [
      "[CV 1/3] END .......eta=0.4, min_child_weight=5;, score=0.765 total time=   7.0s\n"
     ]
    },
    {
     "name": "stderr",
     "output_type": "stream",
     "text": [
      "C:\\Users\\Yuliya\\anaconda3\\lib\\site-packages\\xgboost\\data.py:262: FutureWarning: pandas.Int64Index is deprecated and will be removed from pandas in a future version. Use pandas.Index with the appropriate dtype instead.\n",
      "  elif isinstance(data.columns, (pd.Int64Index, pd.RangeIndex)):\n",
      "C:\\Users\\Yuliya\\anaconda3\\lib\\site-packages\\xgboost\\data.py:262: FutureWarning: pandas.Int64Index is deprecated and will be removed from pandas in a future version. Use pandas.Index with the appropriate dtype instead.\n",
      "  elif isinstance(data.columns, (pd.Int64Index, pd.RangeIndex)):\n"
     ]
    },
    {
     "name": "stdout",
     "output_type": "stream",
     "text": [
      "[CV 2/3] END .......eta=0.4, min_child_weight=5;, score=0.769 total time=   6.9s\n"
     ]
    },
    {
     "name": "stderr",
     "output_type": "stream",
     "text": [
      "C:\\Users\\Yuliya\\anaconda3\\lib\\site-packages\\xgboost\\data.py:262: FutureWarning: pandas.Int64Index is deprecated and will be removed from pandas in a future version. Use pandas.Index with the appropriate dtype instead.\n",
      "  elif isinstance(data.columns, (pd.Int64Index, pd.RangeIndex)):\n",
      "C:\\Users\\Yuliya\\anaconda3\\lib\\site-packages\\xgboost\\data.py:262: FutureWarning: pandas.Int64Index is deprecated and will be removed from pandas in a future version. Use pandas.Index with the appropriate dtype instead.\n",
      "  elif isinstance(data.columns, (pd.Int64Index, pd.RangeIndex)):\n"
     ]
    },
    {
     "name": "stdout",
     "output_type": "stream",
     "text": [
      "[CV 3/3] END .......eta=0.4, min_child_weight=5;, score=0.766 total time=   6.9s\n"
     ]
    },
    {
     "name": "stderr",
     "output_type": "stream",
     "text": [
      "C:\\Users\\Yuliya\\anaconda3\\lib\\site-packages\\xgboost\\data.py:262: FutureWarning: pandas.Int64Index is deprecated and will be removed from pandas in a future version. Use pandas.Index with the appropriate dtype instead.\n",
      "  elif isinstance(data.columns, (pd.Int64Index, pd.RangeIndex)):\n",
      "C:\\Users\\Yuliya\\anaconda3\\lib\\site-packages\\xgboost\\data.py:262: FutureWarning: pandas.Int64Index is deprecated and will be removed from pandas in a future version. Use pandas.Index with the appropriate dtype instead.\n",
      "  elif isinstance(data.columns, (pd.Int64Index, pd.RangeIndex)):\n"
     ]
    },
    {
     "name": "stdout",
     "output_type": "stream",
     "text": [
      "[CV 1/3] END .......eta=0.5, min_child_weight=1;, score=0.763 total time=   7.0s\n"
     ]
    },
    {
     "name": "stderr",
     "output_type": "stream",
     "text": [
      "C:\\Users\\Yuliya\\anaconda3\\lib\\site-packages\\xgboost\\data.py:262: FutureWarning: pandas.Int64Index is deprecated and will be removed from pandas in a future version. Use pandas.Index with the appropriate dtype instead.\n",
      "  elif isinstance(data.columns, (pd.Int64Index, pd.RangeIndex)):\n",
      "C:\\Users\\Yuliya\\anaconda3\\lib\\site-packages\\xgboost\\data.py:262: FutureWarning: pandas.Int64Index is deprecated and will be removed from pandas in a future version. Use pandas.Index with the appropriate dtype instead.\n",
      "  elif isinstance(data.columns, (pd.Int64Index, pd.RangeIndex)):\n"
     ]
    },
    {
     "name": "stdout",
     "output_type": "stream",
     "text": [
      "[CV 2/3] END .......eta=0.5, min_child_weight=1;, score=0.766 total time=   6.9s\n"
     ]
    },
    {
     "name": "stderr",
     "output_type": "stream",
     "text": [
      "C:\\Users\\Yuliya\\anaconda3\\lib\\site-packages\\xgboost\\data.py:262: FutureWarning: pandas.Int64Index is deprecated and will be removed from pandas in a future version. Use pandas.Index with the appropriate dtype instead.\n",
      "  elif isinstance(data.columns, (pd.Int64Index, pd.RangeIndex)):\n",
      "C:\\Users\\Yuliya\\anaconda3\\lib\\site-packages\\xgboost\\data.py:262: FutureWarning: pandas.Int64Index is deprecated and will be removed from pandas in a future version. Use pandas.Index with the appropriate dtype instead.\n",
      "  elif isinstance(data.columns, (pd.Int64Index, pd.RangeIndex)):\n"
     ]
    },
    {
     "name": "stdout",
     "output_type": "stream",
     "text": [
      "[CV 3/3] END .......eta=0.5, min_child_weight=1;, score=0.762 total time=   7.1s\n"
     ]
    },
    {
     "name": "stderr",
     "output_type": "stream",
     "text": [
      "C:\\Users\\Yuliya\\anaconda3\\lib\\site-packages\\xgboost\\data.py:262: FutureWarning: pandas.Int64Index is deprecated and will be removed from pandas in a future version. Use pandas.Index with the appropriate dtype instead.\n",
      "  elif isinstance(data.columns, (pd.Int64Index, pd.RangeIndex)):\n",
      "C:\\Users\\Yuliya\\anaconda3\\lib\\site-packages\\xgboost\\data.py:262: FutureWarning: pandas.Int64Index is deprecated and will be removed from pandas in a future version. Use pandas.Index with the appropriate dtype instead.\n",
      "  elif isinstance(data.columns, (pd.Int64Index, pd.RangeIndex)):\n"
     ]
    },
    {
     "name": "stdout",
     "output_type": "stream",
     "text": [
      "[CV 1/3] END .......eta=0.5, min_child_weight=2;, score=0.764 total time=   7.1s\n"
     ]
    },
    {
     "name": "stderr",
     "output_type": "stream",
     "text": [
      "C:\\Users\\Yuliya\\anaconda3\\lib\\site-packages\\xgboost\\data.py:262: FutureWarning: pandas.Int64Index is deprecated and will be removed from pandas in a future version. Use pandas.Index with the appropriate dtype instead.\n",
      "  elif isinstance(data.columns, (pd.Int64Index, pd.RangeIndex)):\n",
      "C:\\Users\\Yuliya\\anaconda3\\lib\\site-packages\\xgboost\\data.py:262: FutureWarning: pandas.Int64Index is deprecated and will be removed from pandas in a future version. Use pandas.Index with the appropriate dtype instead.\n",
      "  elif isinstance(data.columns, (pd.Int64Index, pd.RangeIndex)):\n"
     ]
    },
    {
     "name": "stdout",
     "output_type": "stream",
     "text": [
      "[CV 2/3] END .......eta=0.5, min_child_weight=2;, score=0.766 total time=   7.1s\n"
     ]
    },
    {
     "name": "stderr",
     "output_type": "stream",
     "text": [
      "C:\\Users\\Yuliya\\anaconda3\\lib\\site-packages\\xgboost\\data.py:262: FutureWarning: pandas.Int64Index is deprecated and will be removed from pandas in a future version. Use pandas.Index with the appropriate dtype instead.\n",
      "  elif isinstance(data.columns, (pd.Int64Index, pd.RangeIndex)):\n",
      "C:\\Users\\Yuliya\\anaconda3\\lib\\site-packages\\xgboost\\data.py:262: FutureWarning: pandas.Int64Index is deprecated and will be removed from pandas in a future version. Use pandas.Index with the appropriate dtype instead.\n",
      "  elif isinstance(data.columns, (pd.Int64Index, pd.RangeIndex)):\n"
     ]
    },
    {
     "name": "stdout",
     "output_type": "stream",
     "text": [
      "[CV 3/3] END .......eta=0.5, min_child_weight=2;, score=0.763 total time=   7.5s\n"
     ]
    },
    {
     "name": "stderr",
     "output_type": "stream",
     "text": [
      "C:\\Users\\Yuliya\\anaconda3\\lib\\site-packages\\xgboost\\data.py:262: FutureWarning: pandas.Int64Index is deprecated and will be removed from pandas in a future version. Use pandas.Index with the appropriate dtype instead.\n",
      "  elif isinstance(data.columns, (pd.Int64Index, pd.RangeIndex)):\n",
      "C:\\Users\\Yuliya\\anaconda3\\lib\\site-packages\\xgboost\\data.py:262: FutureWarning: pandas.Int64Index is deprecated and will be removed from pandas in a future version. Use pandas.Index with the appropriate dtype instead.\n",
      "  elif isinstance(data.columns, (pd.Int64Index, pd.RangeIndex)):\n"
     ]
    },
    {
     "name": "stdout",
     "output_type": "stream",
     "text": [
      "[CV 1/3] END .......eta=0.5, min_child_weight=3;, score=0.763 total time=   7.1s\n"
     ]
    },
    {
     "name": "stderr",
     "output_type": "stream",
     "text": [
      "C:\\Users\\Yuliya\\anaconda3\\lib\\site-packages\\xgboost\\data.py:262: FutureWarning: pandas.Int64Index is deprecated and will be removed from pandas in a future version. Use pandas.Index with the appropriate dtype instead.\n",
      "  elif isinstance(data.columns, (pd.Int64Index, pd.RangeIndex)):\n",
      "C:\\Users\\Yuliya\\anaconda3\\lib\\site-packages\\xgboost\\data.py:262: FutureWarning: pandas.Int64Index is deprecated and will be removed from pandas in a future version. Use pandas.Index with the appropriate dtype instead.\n",
      "  elif isinstance(data.columns, (pd.Int64Index, pd.RangeIndex)):\n"
     ]
    },
    {
     "name": "stdout",
     "output_type": "stream",
     "text": [
      "[CV 2/3] END .......eta=0.5, min_child_weight=3;, score=0.767 total time=   7.1s\n"
     ]
    },
    {
     "name": "stderr",
     "output_type": "stream",
     "text": [
      "C:\\Users\\Yuliya\\anaconda3\\lib\\site-packages\\xgboost\\data.py:262: FutureWarning: pandas.Int64Index is deprecated and will be removed from pandas in a future version. Use pandas.Index with the appropriate dtype instead.\n",
      "  elif isinstance(data.columns, (pd.Int64Index, pd.RangeIndex)):\n",
      "C:\\Users\\Yuliya\\anaconda3\\lib\\site-packages\\xgboost\\data.py:262: FutureWarning: pandas.Int64Index is deprecated and will be removed from pandas in a future version. Use pandas.Index with the appropriate dtype instead.\n",
      "  elif isinstance(data.columns, (pd.Int64Index, pd.RangeIndex)):\n"
     ]
    },
    {
     "name": "stdout",
     "output_type": "stream",
     "text": [
      "[CV 3/3] END .......eta=0.5, min_child_weight=3;, score=0.762 total time=   6.9s\n"
     ]
    },
    {
     "name": "stderr",
     "output_type": "stream",
     "text": [
      "C:\\Users\\Yuliya\\anaconda3\\lib\\site-packages\\xgboost\\data.py:262: FutureWarning: pandas.Int64Index is deprecated and will be removed from pandas in a future version. Use pandas.Index with the appropriate dtype instead.\n",
      "  elif isinstance(data.columns, (pd.Int64Index, pd.RangeIndex)):\n",
      "C:\\Users\\Yuliya\\anaconda3\\lib\\site-packages\\xgboost\\data.py:262: FutureWarning: pandas.Int64Index is deprecated and will be removed from pandas in a future version. Use pandas.Index with the appropriate dtype instead.\n",
      "  elif isinstance(data.columns, (pd.Int64Index, pd.RangeIndex)):\n"
     ]
    },
    {
     "name": "stdout",
     "output_type": "stream",
     "text": [
      "[CV 1/3] END .......eta=0.5, min_child_weight=4;, score=0.763 total time=   6.9s\n"
     ]
    },
    {
     "name": "stderr",
     "output_type": "stream",
     "text": [
      "C:\\Users\\Yuliya\\anaconda3\\lib\\site-packages\\xgboost\\data.py:262: FutureWarning: pandas.Int64Index is deprecated and will be removed from pandas in a future version. Use pandas.Index with the appropriate dtype instead.\n",
      "  elif isinstance(data.columns, (pd.Int64Index, pd.RangeIndex)):\n",
      "C:\\Users\\Yuliya\\anaconda3\\lib\\site-packages\\xgboost\\data.py:262: FutureWarning: pandas.Int64Index is deprecated and will be removed from pandas in a future version. Use pandas.Index with the appropriate dtype instead.\n",
      "  elif isinstance(data.columns, (pd.Int64Index, pd.RangeIndex)):\n"
     ]
    },
    {
     "name": "stdout",
     "output_type": "stream",
     "text": [
      "[CV 2/3] END .......eta=0.5, min_child_weight=4;, score=0.767 total time=   6.9s\n"
     ]
    },
    {
     "name": "stderr",
     "output_type": "stream",
     "text": [
      "C:\\Users\\Yuliya\\anaconda3\\lib\\site-packages\\xgboost\\data.py:262: FutureWarning: pandas.Int64Index is deprecated and will be removed from pandas in a future version. Use pandas.Index with the appropriate dtype instead.\n",
      "  elif isinstance(data.columns, (pd.Int64Index, pd.RangeIndex)):\n",
      "C:\\Users\\Yuliya\\anaconda3\\lib\\site-packages\\xgboost\\data.py:262: FutureWarning: pandas.Int64Index is deprecated and will be removed from pandas in a future version. Use pandas.Index with the appropriate dtype instead.\n",
      "  elif isinstance(data.columns, (pd.Int64Index, pd.RangeIndex)):\n"
     ]
    },
    {
     "name": "stdout",
     "output_type": "stream",
     "text": [
      "[CV 3/3] END .......eta=0.5, min_child_weight=4;, score=0.763 total time=   6.9s\n"
     ]
    },
    {
     "name": "stderr",
     "output_type": "stream",
     "text": [
      "C:\\Users\\Yuliya\\anaconda3\\lib\\site-packages\\xgboost\\data.py:262: FutureWarning: pandas.Int64Index is deprecated and will be removed from pandas in a future version. Use pandas.Index with the appropriate dtype instead.\n",
      "  elif isinstance(data.columns, (pd.Int64Index, pd.RangeIndex)):\n",
      "C:\\Users\\Yuliya\\anaconda3\\lib\\site-packages\\xgboost\\data.py:262: FutureWarning: pandas.Int64Index is deprecated and will be removed from pandas in a future version. Use pandas.Index with the appropriate dtype instead.\n",
      "  elif isinstance(data.columns, (pd.Int64Index, pd.RangeIndex)):\n"
     ]
    },
    {
     "name": "stdout",
     "output_type": "stream",
     "text": [
      "[CV 1/3] END .......eta=0.5, min_child_weight=5;, score=0.763 total time=   6.9s\n"
     ]
    },
    {
     "name": "stderr",
     "output_type": "stream",
     "text": [
      "C:\\Users\\Yuliya\\anaconda3\\lib\\site-packages\\xgboost\\data.py:262: FutureWarning: pandas.Int64Index is deprecated and will be removed from pandas in a future version. Use pandas.Index with the appropriate dtype instead.\n",
      "  elif isinstance(data.columns, (pd.Int64Index, pd.RangeIndex)):\n",
      "C:\\Users\\Yuliya\\anaconda3\\lib\\site-packages\\xgboost\\data.py:262: FutureWarning: pandas.Int64Index is deprecated and will be removed from pandas in a future version. Use pandas.Index with the appropriate dtype instead.\n",
      "  elif isinstance(data.columns, (pd.Int64Index, pd.RangeIndex)):\n"
     ]
    },
    {
     "name": "stdout",
     "output_type": "stream",
     "text": [
      "[CV 2/3] END .......eta=0.5, min_child_weight=5;, score=0.767 total time=   6.9s\n"
     ]
    },
    {
     "name": "stderr",
     "output_type": "stream",
     "text": [
      "C:\\Users\\Yuliya\\anaconda3\\lib\\site-packages\\xgboost\\data.py:262: FutureWarning: pandas.Int64Index is deprecated and will be removed from pandas in a future version. Use pandas.Index with the appropriate dtype instead.\n",
      "  elif isinstance(data.columns, (pd.Int64Index, pd.RangeIndex)):\n",
      "C:\\Users\\Yuliya\\anaconda3\\lib\\site-packages\\xgboost\\data.py:262: FutureWarning: pandas.Int64Index is deprecated and will be removed from pandas in a future version. Use pandas.Index with the appropriate dtype instead.\n",
      "  elif isinstance(data.columns, (pd.Int64Index, pd.RangeIndex)):\n"
     ]
    },
    {
     "name": "stdout",
     "output_type": "stream",
     "text": [
      "[CV 3/3] END .......eta=0.5, min_child_weight=5;, score=0.764 total time=   7.1s\n"
     ]
    },
    {
     "name": "stderr",
     "output_type": "stream",
     "text": [
      "C:\\Users\\Yuliya\\anaconda3\\lib\\site-packages\\xgboost\\data.py:262: FutureWarning: pandas.Int64Index is deprecated and will be removed from pandas in a future version. Use pandas.Index with the appropriate dtype instead.\n",
      "  elif isinstance(data.columns, (pd.Int64Index, pd.RangeIndex)):\n",
      "C:\\Users\\Yuliya\\anaconda3\\lib\\site-packages\\xgboost\\data.py:262: FutureWarning: pandas.Int64Index is deprecated and will be removed from pandas in a future version. Use pandas.Index with the appropriate dtype instead.\n",
      "  elif isinstance(data.columns, (pd.Int64Index, pd.RangeIndex)):\n"
     ]
    },
    {
     "name": "stdout",
     "output_type": "stream",
     "text": [
      "[CV 1/3] END .......eta=0.6, min_child_weight=1;, score=0.759 total time=   7.2s\n"
     ]
    },
    {
     "name": "stderr",
     "output_type": "stream",
     "text": [
      "C:\\Users\\Yuliya\\anaconda3\\lib\\site-packages\\xgboost\\data.py:262: FutureWarning: pandas.Int64Index is deprecated and will be removed from pandas in a future version. Use pandas.Index with the appropriate dtype instead.\n",
      "  elif isinstance(data.columns, (pd.Int64Index, pd.RangeIndex)):\n",
      "C:\\Users\\Yuliya\\anaconda3\\lib\\site-packages\\xgboost\\data.py:262: FutureWarning: pandas.Int64Index is deprecated and will be removed from pandas in a future version. Use pandas.Index with the appropriate dtype instead.\n",
      "  elif isinstance(data.columns, (pd.Int64Index, pd.RangeIndex)):\n"
     ]
    },
    {
     "name": "stdout",
     "output_type": "stream",
     "text": [
      "[CV 2/3] END .......eta=0.6, min_child_weight=1;, score=0.763 total time=   7.1s\n"
     ]
    },
    {
     "name": "stderr",
     "output_type": "stream",
     "text": [
      "C:\\Users\\Yuliya\\anaconda3\\lib\\site-packages\\xgboost\\data.py:262: FutureWarning: pandas.Int64Index is deprecated and will be removed from pandas in a future version. Use pandas.Index with the appropriate dtype instead.\n",
      "  elif isinstance(data.columns, (pd.Int64Index, pd.RangeIndex)):\n",
      "C:\\Users\\Yuliya\\anaconda3\\lib\\site-packages\\xgboost\\data.py:262: FutureWarning: pandas.Int64Index is deprecated and will be removed from pandas in a future version. Use pandas.Index with the appropriate dtype instead.\n",
      "  elif isinstance(data.columns, (pd.Int64Index, pd.RangeIndex)):\n"
     ]
    },
    {
     "name": "stdout",
     "output_type": "stream",
     "text": [
      "[CV 3/3] END .......eta=0.6, min_child_weight=1;, score=0.761 total time=   7.2s\n"
     ]
    },
    {
     "name": "stderr",
     "output_type": "stream",
     "text": [
      "C:\\Users\\Yuliya\\anaconda3\\lib\\site-packages\\xgboost\\data.py:262: FutureWarning: pandas.Int64Index is deprecated and will be removed from pandas in a future version. Use pandas.Index with the appropriate dtype instead.\n",
      "  elif isinstance(data.columns, (pd.Int64Index, pd.RangeIndex)):\n",
      "C:\\Users\\Yuliya\\anaconda3\\lib\\site-packages\\xgboost\\data.py:262: FutureWarning: pandas.Int64Index is deprecated and will be removed from pandas in a future version. Use pandas.Index with the appropriate dtype instead.\n",
      "  elif isinstance(data.columns, (pd.Int64Index, pd.RangeIndex)):\n"
     ]
    },
    {
     "name": "stdout",
     "output_type": "stream",
     "text": [
      "[CV 1/3] END .......eta=0.6, min_child_weight=2;, score=0.760 total time=   6.9s\n"
     ]
    },
    {
     "name": "stderr",
     "output_type": "stream",
     "text": [
      "C:\\Users\\Yuliya\\anaconda3\\lib\\site-packages\\xgboost\\data.py:262: FutureWarning: pandas.Int64Index is deprecated and will be removed from pandas in a future version. Use pandas.Index with the appropriate dtype instead.\n",
      "  elif isinstance(data.columns, (pd.Int64Index, pd.RangeIndex)):\n",
      "C:\\Users\\Yuliya\\anaconda3\\lib\\site-packages\\xgboost\\data.py:262: FutureWarning: pandas.Int64Index is deprecated and will be removed from pandas in a future version. Use pandas.Index with the appropriate dtype instead.\n",
      "  elif isinstance(data.columns, (pd.Int64Index, pd.RangeIndex)):\n"
     ]
    },
    {
     "name": "stdout",
     "output_type": "stream",
     "text": [
      "[CV 2/3] END .......eta=0.6, min_child_weight=2;, score=0.765 total time=   6.9s\n"
     ]
    },
    {
     "name": "stderr",
     "output_type": "stream",
     "text": [
      "C:\\Users\\Yuliya\\anaconda3\\lib\\site-packages\\xgboost\\data.py:262: FutureWarning: pandas.Int64Index is deprecated and will be removed from pandas in a future version. Use pandas.Index with the appropriate dtype instead.\n",
      "  elif isinstance(data.columns, (pd.Int64Index, pd.RangeIndex)):\n",
      "C:\\Users\\Yuliya\\anaconda3\\lib\\site-packages\\xgboost\\data.py:262: FutureWarning: pandas.Int64Index is deprecated and will be removed from pandas in a future version. Use pandas.Index with the appropriate dtype instead.\n",
      "  elif isinstance(data.columns, (pd.Int64Index, pd.RangeIndex)):\n"
     ]
    },
    {
     "name": "stdout",
     "output_type": "stream",
     "text": [
      "[CV 3/3] END .......eta=0.6, min_child_weight=2;, score=0.760 total time=   6.9s\n"
     ]
    },
    {
     "name": "stderr",
     "output_type": "stream",
     "text": [
      "C:\\Users\\Yuliya\\anaconda3\\lib\\site-packages\\xgboost\\data.py:262: FutureWarning: pandas.Int64Index is deprecated and will be removed from pandas in a future version. Use pandas.Index with the appropriate dtype instead.\n",
      "  elif isinstance(data.columns, (pd.Int64Index, pd.RangeIndex)):\n",
      "C:\\Users\\Yuliya\\anaconda3\\lib\\site-packages\\xgboost\\data.py:262: FutureWarning: pandas.Int64Index is deprecated and will be removed from pandas in a future version. Use pandas.Index with the appropriate dtype instead.\n",
      "  elif isinstance(data.columns, (pd.Int64Index, pd.RangeIndex)):\n"
     ]
    },
    {
     "name": "stdout",
     "output_type": "stream",
     "text": [
      "[CV 1/3] END .......eta=0.6, min_child_weight=3;, score=0.762 total time=   6.9s\n"
     ]
    },
    {
     "name": "stderr",
     "output_type": "stream",
     "text": [
      "C:\\Users\\Yuliya\\anaconda3\\lib\\site-packages\\xgboost\\data.py:262: FutureWarning: pandas.Int64Index is deprecated and will be removed from pandas in a future version. Use pandas.Index with the appropriate dtype instead.\n",
      "  elif isinstance(data.columns, (pd.Int64Index, pd.RangeIndex)):\n",
      "C:\\Users\\Yuliya\\anaconda3\\lib\\site-packages\\xgboost\\data.py:262: FutureWarning: pandas.Int64Index is deprecated and will be removed from pandas in a future version. Use pandas.Index with the appropriate dtype instead.\n",
      "  elif isinstance(data.columns, (pd.Int64Index, pd.RangeIndex)):\n"
     ]
    },
    {
     "name": "stdout",
     "output_type": "stream",
     "text": [
      "[CV 2/3] END .......eta=0.6, min_child_weight=3;, score=0.765 total time=   7.0s\n"
     ]
    },
    {
     "name": "stderr",
     "output_type": "stream",
     "text": [
      "C:\\Users\\Yuliya\\anaconda3\\lib\\site-packages\\xgboost\\data.py:262: FutureWarning: pandas.Int64Index is deprecated and will be removed from pandas in a future version. Use pandas.Index with the appropriate dtype instead.\n",
      "  elif isinstance(data.columns, (pd.Int64Index, pd.RangeIndex)):\n",
      "C:\\Users\\Yuliya\\anaconda3\\lib\\site-packages\\xgboost\\data.py:262: FutureWarning: pandas.Int64Index is deprecated and will be removed from pandas in a future version. Use pandas.Index with the appropriate dtype instead.\n",
      "  elif isinstance(data.columns, (pd.Int64Index, pd.RangeIndex)):\n"
     ]
    },
    {
     "name": "stdout",
     "output_type": "stream",
     "text": [
      "[CV 3/3] END .......eta=0.6, min_child_weight=3;, score=0.761 total time=   7.2s\n"
     ]
    },
    {
     "name": "stderr",
     "output_type": "stream",
     "text": [
      "C:\\Users\\Yuliya\\anaconda3\\lib\\site-packages\\xgboost\\data.py:262: FutureWarning: pandas.Int64Index is deprecated and will be removed from pandas in a future version. Use pandas.Index with the appropriate dtype instead.\n",
      "  elif isinstance(data.columns, (pd.Int64Index, pd.RangeIndex)):\n",
      "C:\\Users\\Yuliya\\anaconda3\\lib\\site-packages\\xgboost\\data.py:262: FutureWarning: pandas.Int64Index is deprecated and will be removed from pandas in a future version. Use pandas.Index with the appropriate dtype instead.\n",
      "  elif isinstance(data.columns, (pd.Int64Index, pd.RangeIndex)):\n"
     ]
    },
    {
     "name": "stdout",
     "output_type": "stream",
     "text": [
      "[CV 1/3] END .......eta=0.6, min_child_weight=4;, score=0.762 total time=   7.0s\n"
     ]
    },
    {
     "name": "stderr",
     "output_type": "stream",
     "text": [
      "C:\\Users\\Yuliya\\anaconda3\\lib\\site-packages\\xgboost\\data.py:262: FutureWarning: pandas.Int64Index is deprecated and will be removed from pandas in a future version. Use pandas.Index with the appropriate dtype instead.\n",
      "  elif isinstance(data.columns, (pd.Int64Index, pd.RangeIndex)):\n",
      "C:\\Users\\Yuliya\\anaconda3\\lib\\site-packages\\xgboost\\data.py:262: FutureWarning: pandas.Int64Index is deprecated and will be removed from pandas in a future version. Use pandas.Index with the appropriate dtype instead.\n",
      "  elif isinstance(data.columns, (pd.Int64Index, pd.RangeIndex)):\n"
     ]
    },
    {
     "name": "stdout",
     "output_type": "stream",
     "text": [
      "[CV 2/3] END .......eta=0.6, min_child_weight=4;, score=0.766 total time=   6.9s\n"
     ]
    },
    {
     "name": "stderr",
     "output_type": "stream",
     "text": [
      "C:\\Users\\Yuliya\\anaconda3\\lib\\site-packages\\xgboost\\data.py:262: FutureWarning: pandas.Int64Index is deprecated and will be removed from pandas in a future version. Use pandas.Index with the appropriate dtype instead.\n",
      "  elif isinstance(data.columns, (pd.Int64Index, pd.RangeIndex)):\n",
      "C:\\Users\\Yuliya\\anaconda3\\lib\\site-packages\\xgboost\\data.py:262: FutureWarning: pandas.Int64Index is deprecated and will be removed from pandas in a future version. Use pandas.Index with the appropriate dtype instead.\n",
      "  elif isinstance(data.columns, (pd.Int64Index, pd.RangeIndex)):\n"
     ]
    },
    {
     "name": "stdout",
     "output_type": "stream",
     "text": [
      "[CV 3/3] END .......eta=0.6, min_child_weight=4;, score=0.762 total time=   6.9s\n"
     ]
    },
    {
     "name": "stderr",
     "output_type": "stream",
     "text": [
      "C:\\Users\\Yuliya\\anaconda3\\lib\\site-packages\\xgboost\\data.py:262: FutureWarning: pandas.Int64Index is deprecated and will be removed from pandas in a future version. Use pandas.Index with the appropriate dtype instead.\n",
      "  elif isinstance(data.columns, (pd.Int64Index, pd.RangeIndex)):\n",
      "C:\\Users\\Yuliya\\anaconda3\\lib\\site-packages\\xgboost\\data.py:262: FutureWarning: pandas.Int64Index is deprecated and will be removed from pandas in a future version. Use pandas.Index with the appropriate dtype instead.\n",
      "  elif isinstance(data.columns, (pd.Int64Index, pd.RangeIndex)):\n"
     ]
    },
    {
     "name": "stdout",
     "output_type": "stream",
     "text": [
      "[CV 1/3] END .......eta=0.6, min_child_weight=5;, score=0.763 total time=   6.9s\n"
     ]
    },
    {
     "name": "stderr",
     "output_type": "stream",
     "text": [
      "C:\\Users\\Yuliya\\anaconda3\\lib\\site-packages\\xgboost\\data.py:262: FutureWarning: pandas.Int64Index is deprecated and will be removed from pandas in a future version. Use pandas.Index with the appropriate dtype instead.\n",
      "  elif isinstance(data.columns, (pd.Int64Index, pd.RangeIndex)):\n",
      "C:\\Users\\Yuliya\\anaconda3\\lib\\site-packages\\xgboost\\data.py:262: FutureWarning: pandas.Int64Index is deprecated and will be removed from pandas in a future version. Use pandas.Index with the appropriate dtype instead.\n",
      "  elif isinstance(data.columns, (pd.Int64Index, pd.RangeIndex)):\n"
     ]
    },
    {
     "name": "stdout",
     "output_type": "stream",
     "text": [
      "[CV 2/3] END .......eta=0.6, min_child_weight=5;, score=0.765 total time=   6.9s\n"
     ]
    },
    {
     "name": "stderr",
     "output_type": "stream",
     "text": [
      "C:\\Users\\Yuliya\\anaconda3\\lib\\site-packages\\xgboost\\data.py:262: FutureWarning: pandas.Int64Index is deprecated and will be removed from pandas in a future version. Use pandas.Index with the appropriate dtype instead.\n",
      "  elif isinstance(data.columns, (pd.Int64Index, pd.RangeIndex)):\n",
      "C:\\Users\\Yuliya\\anaconda3\\lib\\site-packages\\xgboost\\data.py:262: FutureWarning: pandas.Int64Index is deprecated and will be removed from pandas in a future version. Use pandas.Index with the appropriate dtype instead.\n",
      "  elif isinstance(data.columns, (pd.Int64Index, pd.RangeIndex)):\n"
     ]
    },
    {
     "name": "stdout",
     "output_type": "stream",
     "text": [
      "[CV 3/3] END .......eta=0.6, min_child_weight=5;, score=0.762 total time=   6.9s\n"
     ]
    },
    {
     "name": "stderr",
     "output_type": "stream",
     "text": [
      "C:\\Users\\Yuliya\\anaconda3\\lib\\site-packages\\xgboost\\data.py:262: FutureWarning: pandas.Int64Index is deprecated and will be removed from pandas in a future version. Use pandas.Index with the appropriate dtype instead.\n",
      "  elif isinstance(data.columns, (pd.Int64Index, pd.RangeIndex)):\n"
     ]
    },
    {
     "data": {
      "text/plain": [
       "GridSearchCV(cv=<generator object _BaseKFold.split at 0x000002548A12E740>,\n",
       "             estimator=XGBClassifier(base_score=None, booster=None,\n",
       "                                     colsample_bylevel=None,\n",
       "                                     colsample_bynode=None,\n",
       "                                     colsample_bytree=None,\n",
       "                                     enable_categorical=False, gamma=None,\n",
       "                                     gpu_id=None, importance_type=None,\n",
       "                                     interaction_constraints=None,\n",
       "                                     learning_rate=None, max_delta_step=None,\n",
       "                                     max_depth=None, min_chil...\n",
       "                                     missing=nan, monotone_constraints=None,\n",
       "                                     n_estimators=100, n_jobs=15,\n",
       "                                     num_parallel_tree=None, predictor=None,\n",
       "                                     random_state=1, reg_alpha=None,\n",
       "                                     reg_lambda=None, scale_pos_weight=None,\n",
       "                                     subsample=None, tree_method=None,\n",
       "                                     use_label_encoder=False,\n",
       "                                     validate_parameters=None, verbosity=None),\n",
       "             param_grid=[{'eta': array([0.4, 0.5, 0.6]),\n",
       "                          'min_child_weight': array([1, 2, 3, 4, 5])}],\n",
       "             scoring='roc_auc', verbose=3)"
      ]
     },
     "execution_count": 58,
     "metadata": {},
     "output_type": "execute_result"
    }
   ],
   "source": [
    "# KFold for XGBoost\n",
    "stratifiedkf_xgb = StratifiedKFold(n_splits=3, random_state=1,shuffle=True)\n",
    "\n",
    "# Parameters' grid\n",
    "param_grid = [{'eta': np.array([0.4, 0.5, 0.6]),\n",
    "               'min_child_weight': np.arange(1, 6, 1),}]\n",
    "# 'eta': np.array([0.2, 0.25, 0.3, 0.35, 0.4])\n",
    "# 'eta': np.array([0.01, 0.05, 0.1, 0.15, 0.2])\n",
    "\n",
    "# XGB Classifier\n",
    "xgb_model = XGBClassifier(n_estimators=100, n_jobs=n_cores, use_label_encoder=False, random_state=1)\n",
    "\n",
    "# Grid for CV\n",
    "gridsearchcv = GridSearchCV(xgb_model, param_grid, scoring='roc_auc', cv=stratifiedkf_xgb.split(X_train_final, y_train), verbose=3) \n",
    "gridsearchcv.fit(X_train_final, y_train, eval_metric='auc') "
   ]
  },
  {
   "cell_type": "code",
   "execution_count": 59,
   "id": "2f363539",
   "metadata": {},
   "outputs": [
    {
     "data": {
      "text/plain": [
       "{'eta': 0.4, 'min_child_weight': 5}"
      ]
     },
     "execution_count": 59,
     "metadata": {},
     "output_type": "execute_result"
    }
   ],
   "source": [
    "# Best tuned parameters\n",
    "gridsearchcv.best_params_"
   ]
  },
  {
   "cell_type": "code",
   "execution_count": 60,
   "id": "e11fc797",
   "metadata": {},
   "outputs": [
    {
     "name": "stdout",
     "output_type": "stream",
     "text": [
      "\n",
      "Accuracy: 0.7399,\n",
      "Precision: 0.7561,\n",
      "Recall: 0.9055,\n",
      "F1 score: 0.8241\n",
      "AUC: 0.6526\n",
      "ROC curve\n"
     ]
    },
    {
     "data": {
      "image/png": "[encoded data removed]",
      "text/plain": [
       "<Figure size 432x288 with 1 Axes>"
      ]
     },
     "metadata": {
      "needs_background": "light"
     },
     "output_type": "display_data"
    }
   ],
   "source": [
    "# Prediction\n",
    "y_pred_xgb = gridsearchcv.predict(X_test_final) \n",
    "print('\\nAccuracy: {:.4f},\\nPrecision: {:.4f},\\nRecall: {:.4f},\\nF1 score: {:.4f}'.format(\n",
    "    accuracy_score(y_test, y_pred_xgb), precision_score(y_test, y_pred_xgb), recall_score(y_test, y_pred_xgb),\n",
    "    f1_score(y_test, y_pred_xgb)))\n",
    "fpr, tpr, thresholds = roc_curve(y_true=y_test, y_score=y_pred_xgb)\n",
    "print('AUC: {:.4f}'.format(auc(fpr, tpr)))\n",
    "print('ROC curve')\n",
    "roc_display = RocCurveDisplay(fpr=fpr, tpr=tpr).plot()"
   ]
  },
  {
   "cell_type": "code",
   "execution_count": 61,
   "id": "c04f1459",
   "metadata": {},
   "outputs": [
    {
     "data": {
      "text/plain": [
       "array([[ 3934,  5909],\n",
       "       [ 1911, 18316]], dtype=int64)"
      ]
     },
     "execution_count": 61,
     "metadata": {},
     "output_type": "execute_result"
    }
   ],
   "source": [
    "# Confusion matrix\n",
    "confusion_matrix(y_test, y_pred_xgb)"
   ]
  },
  {
   "cell_type": "code",
   "execution_count": 62,
   "id": "3c4d4e9f",
   "metadata": {},
   "outputs": [
    {
     "data": {
      "text/plain": [
       "<AxesSubplot:>"
      ]
     },
     "execution_count": 62,
     "metadata": {},
     "output_type": "execute_result"
    },
    {
     "data": {
      "image/png": "[encoded data removed]",
      "text/plain": [
       "<Figure size 720x720 with 1 Axes>"
      ]
     },
     "metadata": {
      "needs_background": "light"
     },
     "output_type": "display_data"
    }
   ],
   "source": [
    "sorted_index = gridsearchcv.best_estimator_.feature_importances_.argsort()[::-1][:15]\n",
    "plt.figure(figsize=(10,10))\n",
    "sns.barplot(y=X_test_final.columns[sorted_index], x=gridsearchcv.best_estimator_.feature_importances_[sorted_index],\n",
    "           orient='h')"
   ]
  },
  {
   "cell_type": "markdown",
   "id": "3686b083",
   "metadata": {},
   "source": [
    "## Problem 2"
   ]
  },
  {
   "cell_type": "markdown",
   "id": "d04a1289",
   "metadata": {},
   "source": [
    "### Join data sets with business and review"
   ]
  },
  {
   "cell_type": "code",
   "execution_count": 63,
   "id": "84dd9d96",
   "metadata": {},
   "outputs": [],
   "source": [
    "# Drop date column\n",
    "review_df_ndate = review_df.drop(['date'], axis=1)"
   ]
  },
  {
   "cell_type": "code",
   "execution_count": 64,
   "id": "95f716a8",
   "metadata": {},
   "outputs": [
    {
     "data": {
      "text/plain": [
       "(150346, 2)"
      ]
     },
     "execution_count": 64,
     "metadata": {},
     "output_type": "execute_result"
    }
   ],
   "source": [
    "# Drop stars on business\n",
    "business_cat_df = business_df.join(categories_df, how='inner')\n",
    "business_cat_df.drop(['categories', 'name', 'address', 'city', 'postal_code', 'latitude',\n",
    "                      'longitude', 'hours', 'stars', 'attributes'], axis=1,\n",
    "                     inplace=True)\n",
    "# Select categories\n",
    "categ_analysis_names = ['Shopping','business_id']\n",
    "business_cat_df = business_cat_df[categ_analysis_names]\n",
    "business_cat_df.shape"
   ]
  },
  {
   "cell_type": "code",
   "execution_count": 65,
   "id": "14cf611a",
   "metadata": {},
   "outputs": [
    {
     "data": {
      "text/html": [
       "<div>\n",
       "<style scoped>\n",
       "    .dataframe tbody tr th:only-of-type {\n",
       "        vertical-align: middle;\n",
       "    }\n",
       "\n",
       "    .dataframe tbody tr th {\n",
       "        vertical-align: top;\n",
       "    }\n",
       "\n",
       "    .dataframe thead th {\n",
       "        text-align: right;\n",
       "    }\n",
       "</style>\n",
       "<table border=\"1\" class=\"dataframe\">\n",
       "  <thead>\n",
       "    <tr style=\"text-align: right;\">\n",
       "      <th></th>\n",
       "      <th>Shopping</th>\n",
       "      <th>business_id</th>\n",
       "    </tr>\n",
       "  </thead>\n",
       "  <tbody>\n",
       "    <tr>\n",
       "      <th>0</th>\n",
       "      <td>0</td>\n",
       "      <td>Pns2l4eNsfO8kk83dixA6A</td>\n",
       "    </tr>\n",
       "    <tr>\n",
       "      <th>1</th>\n",
       "      <td>0</td>\n",
       "      <td>mpf3x-BjTdTEA3yCZrAYPw</td>\n",
       "    </tr>\n",
       "    <tr>\n",
       "      <th>2</th>\n",
       "      <td>1</td>\n",
       "      <td>tUFrWirKiKi_TAnsVWINQQ</td>\n",
       "    </tr>\n",
       "    <tr>\n",
       "      <th>3</th>\n",
       "      <td>0</td>\n",
       "      <td>MTSW4McQd7CbVtyjqoe9mw</td>\n",
       "    </tr>\n",
       "    <tr>\n",
       "      <th>4</th>\n",
       "      <td>0</td>\n",
       "      <td>mWMc6_wTdE0EUBKIGXDVfA</td>\n",
       "    </tr>\n",
       "  </tbody>\n",
       "</table>\n",
       "</div>"
      ],
      "text/plain": [
       "   Shopping             business_id\n",
       "0         0  Pns2l4eNsfO8kk83dixA6A\n",
       "1         0  mpf3x-BjTdTEA3yCZrAYPw\n",
       "2         1  tUFrWirKiKi_TAnsVWINQQ\n",
       "3         0  MTSW4McQd7CbVtyjqoe9mw\n",
       "4         0  mWMc6_wTdE0EUBKIGXDVfA"
      ]
     },
     "execution_count": 65,
     "metadata": {},
     "output_type": "execute_result"
    }
   ],
   "source": [
    "business_cat_df.head()"
   ]
  },
  {
   "cell_type": "code",
   "execution_count": 66,
   "id": "91594c03",
   "metadata": {},
   "outputs": [
    {
     "name": "stdout",
     "output_type": "stream",
     "text": [
      "Index(['review_id', 'user_id', 'business_id', 'stars', 'useful', 'funny',\n",
      "       'cool', 'text'],\n",
      "      dtype='object')\n",
      "Index(['Shopping', 'business_id'], dtype='object')\n"
     ]
    }
   ],
   "source": [
    "# Check the columns\n",
    "print(review_df_ndate.columns)\n",
    "print(business_cat_df.columns)"
   ]
  },
  {
   "cell_type": "code",
   "execution_count": 67,
   "id": "3ba24597",
   "metadata": {},
   "outputs": [],
   "source": [
    "# Join data sets\n",
    "rev_bus_df = review_df_ndate.merge(business_cat_df, on = 'business_id', how = 'inner')"
   ]
  },
  {
   "cell_type": "code",
   "execution_count": 68,
   "id": "1a63ecd9",
   "metadata": {},
   "outputs": [
    {
     "name": "stdout",
     "output_type": "stream",
     "text": [
      "(6990280, 9)\n"
     ]
    }
   ],
   "source": [
    "print(rev_bus_df.shape)"
   ]
  },
  {
   "cell_type": "markdown",
   "id": "6a9642e4",
   "metadata": {},
   "source": [
    "### Text data"
   ]
  },
  {
   "cell_type": "code",
   "execution_count": 69,
   "id": "f971e789",
   "metadata": {},
   "outputs": [
    {
     "name": "stderr",
     "output_type": "stream",
     "text": [
      "[nltk_data] Downloading package stopwords to\n",
      "[nltk_data]     C:\\Users\\Yuliya\\AppData\\Roaming\\nltk_data...\n",
      "[nltk_data]   Package stopwords is already up-to-date!\n",
      "[nltk_data] Downloading package wordnet to\n",
      "[nltk_data]     C:\\Users\\Yuliya\\AppData\\Roaming\\nltk_data...\n",
      "[nltk_data]   Package wordnet is already up-to-date!\n",
      "[nltk_data] Downloading package omw-1.4 to\n",
      "[nltk_data]     C:\\Users\\Yuliya\\AppData\\Roaming\\nltk_data...\n",
      "[nltk_data]   Package omw-1.4 is already up-to-date!\n"
     ]
    }
   ],
   "source": [
    "# Import nltk for text courpus preparation\n",
    "import nltk\n",
    "nltk.download('stopwords')\n",
    "nltk.download('wordnet')\n",
    "nltk.download('omw-1.4')\n",
    "from nltk.corpus import stopwords \n",
    "from nltk.stem.wordnet import WordNetLemmatizer\n",
    "from nltk.tokenize import RegexpTokenizer\n",
    "import string\n",
    "# Import regular expressions\n",
    "import re\n",
    "# Import gensim for LDA\n",
    "import gensim\n",
    "from gensim import corpora\n",
    "# Coherence model\n",
    "from gensim.models import CoherenceModel\n",
    "from gensim.models import Phrases"
   ]
  },
  {
   "cell_type": "markdown",
   "id": "01d0406e",
   "metadata": {},
   "source": [
    "## Analysis of Shopping Reviews"
   ]
  },
  {
   "cell_type": "code",
   "execution_count": 70,
   "id": "a4faf506",
   "metadata": {},
   "outputs": [],
   "source": [
    "# Preprocessing of text corpus\n",
    "\n",
    "# Stop words\n",
    "stop_words = set(stopwords.words('english'))\n",
    "stop_words.update({'come', 'try', 'go', 'make', 'place',\n",
    "                  'would', 'really', 'like','came', 'got',\n",
    "                  'store','said', 'need', 'told', 'made', 'could',\n",
    "                  'thing', 'also', 'even', 'one', 'new', 'item',\n",
    "                  'time', 'customer', 'service', 'great', 'shop',\n",
    "                  'went', 'called', 'always', 'get', 'back'})\n",
    "# Punctuation\n",
    "punctuations = re.compile(\"[\"+string.punctuation+\"]\")\n",
    "# Lemmatization\n",
    "lemmas = WordNetLemmatizer()\n",
    "# Tokenizer\n",
    "tokenizer = RegexpTokenizer(r'\\w+')\n",
    "\n",
    "# Rewrite \n",
    "def text_clean(text):\n",
    "    # Transform to lower case\n",
    "    text_prep = text.lower()\n",
    "    # Remove digits\n",
    "    text_prep = re.sub(r'[0-9]', '', text_prep)\n",
    "    # Tokenize\n",
    "    text_prep = tokenizer.tokenize(text_prep)\n",
    "    # Lemmatization\n",
    "    text_prep = [lemmas.lemmatize(word) for word in text_prep]\n",
    "    # Remove stop words\n",
    "    text_prep = [word for word in text_prep if word not in stop_words]\n",
    "    # Remove words which shorter than 2 characters\n",
    "    text_clean = [word for word in text_prep if len(word) > 2]\n",
    "    return text_clean"
   ]
  },
  {
   "cell_type": "code",
   "execution_count": 71,
   "id": "ce9f2cf7",
   "metadata": {},
   "outputs": [],
   "source": [
    "# Add bigrams\n",
    "# def add_bigrams(text, bigram):\n",
    "#     for word in bigram[text]: \n",
    "#         if '_' in word:\n",
    "#             text.append(word)\n",
    "#             return text\n",
    "#         else:\n",
    "#             return text"
   ]
  },
  {
   "cell_type": "markdown",
   "id": "ba63ea81",
   "metadata": {},
   "source": [
    "### Topic model (LDA)"
   ]
  },
  {
   "cell_type": "code",
   "execution_count": 72,
   "id": "409b88eb",
   "metadata": {},
   "outputs": [],
   "source": [
    "# Create the term dictionary\n",
    "def create_dictionary(column_with_tokens):\n",
    "    dictionary = corpora.Dictionary(column_with_tokens)\n",
    "    print('Length {}'.format(len(dictionary)))\n",
    "    print(dictionary)\n",
    "    return dictionary"
   ]
  },
  {
   "cell_type": "code",
   "execution_count": 73,
   "id": "4768f91a",
   "metadata": {},
   "outputs": [],
   "source": [
    "# Create the Document-Term Matrix (documents into bag of words)\n",
    "def create_doc_term_matrix(corpus_dictionary, column_with_tokens):\n",
    "    doc_term_matrix = [corpus_dictionary.doc2bow(d) for d in column_with_tokens]\n",
    "    return doc_term_matrix"
   ]
  },
  {
   "cell_type": "code",
   "execution_count": 74,
   "id": "f074773c",
   "metadata": {},
   "outputs": [],
   "source": [
    "# LDA model (check passes)\n",
    "# doc_term_matrix: document term matrix\n",
    "# n_cores: number of cores\n",
    "# n_topics: number of topics\n",
    "# corpus_dictionary: dictionary\n",
    "def construct_lda_model(doc_term_matrix, n_cores, n_topics, corpus_dictionary):\n",
    "    lda_model = gensim.models.ldamulticore.LdaMulticore(corpus=doc_term_matrix,\n",
    "                                                    workers=n_cores,\n",
    "                                                    num_topics=n_topics,\n",
    "                                                    id2word=corpus_dictionary,\n",
    "                                                    passes=3,\n",
    "                                                    random_state=0,\n",
    "                                                    eval_every=1)\n",
    "    return lda_model"
   ]
  },
  {
   "cell_type": "code",
   "execution_count": 75,
   "id": "b76a3d64",
   "metadata": {},
   "outputs": [],
   "source": [
    "# Find optimal number of topics\n",
    "# Compute Coherence Score (Shows interpretability)\n",
    "# lda_model: lda object\n",
    "def coh_score(lda_model, doc_term_matrix):\n",
    "    coherence_model_lda = CoherenceModel(model=lda_model, corpus=doc_term_matrix, coherence='u_mass')\n",
    "    coherence_lda = coherence_model_lda.get_coherence()\n",
    "    print('\\nCoherence Score: ', coherence_lda)\n",
    "    return coherence_lda"
   ]
  },
  {
   "cell_type": "code",
   "execution_count": 76,
   "id": "f1d0dabd",
   "metadata": {},
   "outputs": [],
   "source": [
    "# Get top 10 words for each topic\n",
    "def get_topic_top10_words(n_topics, lda_model, corpus_dictionary):\n",
    "    top10_words = []\n",
    "    for i in range(n_topics):\n",
    "        top_words = lda_model.get_topic_terms(i,10)\n",
    "        top10_words.append([corpus_dictionary[word[0]] for word in top_words])\n",
    "    # Convert to Dataframe\n",
    "    top10_words_df = pd.DataFrame(top10_words).transpose()\n",
    "    # Column names\n",
    "    topic_list = (np.array(range(n_topics)) + 1).tolist()\n",
    "    topic_list = ['topic ' + str(i) for i in topic_list]\n",
    "    top10_words_df.columns = topic_list\n",
    "    return top10_words_df"
   ]
  },
  {
   "cell_type": "markdown",
   "id": "29619cf3",
   "metadata": {},
   "source": [
    "##### Reviews"
   ]
  },
  {
   "cell_type": "code",
   "execution_count": 77,
   "id": "79a08cf0",
   "metadata": {},
   "outputs": [],
   "source": [
    "# Shopping reviews\n",
    "rev_bus_shop_df = rev_bus_df.loc[rev_bus_df.Shopping == 1,['review_id', 'business_id', 'stars',\n",
    "                                                           'useful', 'funny','cool', 'text']]"
   ]
  },
  {
   "cell_type": "code",
   "execution_count": 78,
   "id": "60a0b407",
   "metadata": {},
   "outputs": [
    {
     "name": "stdout",
     "output_type": "stream",
     "text": [
      "(523254, 7)\n"
     ]
    },
    {
     "data": {
      "text/html": [
       "<div>\n",
       "<style scoped>\n",
       "    .dataframe tbody tr th:only-of-type {\n",
       "        vertical-align: middle;\n",
       "    }\n",
       "\n",
       "    .dataframe tbody tr th {\n",
       "        vertical-align: top;\n",
       "    }\n",
       "\n",
       "    .dataframe thead th {\n",
       "        text-align: right;\n",
       "    }\n",
       "</style>\n",
       "<table border=\"1\" class=\"dataframe\">\n",
       "  <thead>\n",
       "    <tr style=\"text-align: right;\">\n",
       "      <th></th>\n",
       "      <th>review_id</th>\n",
       "      <th>business_id</th>\n",
       "      <th>stars</th>\n",
       "      <th>useful</th>\n",
       "      <th>funny</th>\n",
       "      <th>cool</th>\n",
       "      <th>text</th>\n",
       "    </tr>\n",
       "  </thead>\n",
       "  <tbody>\n",
       "    <tr>\n",
       "      <th>1877</th>\n",
       "      <td>rGQRf8UafX7OTlMNN19I8A</td>\n",
       "      <td>uMvVYRgGNXf5boolA9HXTw</td>\n",
       "      <td>5.0</td>\n",
       "      <td>2</td>\n",
       "      <td>0</td>\n",
       "      <td>0</td>\n",
       "      <td>My experience with Shalimar was nothing but wo...</td>\n",
       "    </tr>\n",
       "    <tr>\n",
       "      <th>1878</th>\n",
       "      <td>A0uKELjTgN7Z-MW1Z1iNfQ</td>\n",
       "      <td>uMvVYRgGNXf5boolA9HXTw</td>\n",
       "      <td>4.0</td>\n",
       "      <td>3</td>\n",
       "      <td>0</td>\n",
       "      <td>0</td>\n",
       "      <td>Very helpful and patient.  20\" 14k gold chain ...</td>\n",
       "    </tr>\n",
       "  </tbody>\n",
       "</table>\n",
       "</div>"
      ],
      "text/plain": [
       "                   review_id             business_id  stars  useful  funny  \\\n",
       "1877  rGQRf8UafX7OTlMNN19I8A  uMvVYRgGNXf5boolA9HXTw    5.0       2      0   \n",
       "1878  A0uKELjTgN7Z-MW1Z1iNfQ  uMvVYRgGNXf5boolA9HXTw    4.0       3      0   \n",
       "\n",
       "      cool                                               text  \n",
       "1877     0  My experience with Shalimar was nothing but wo...  \n",
       "1878     0  Very helpful and patient.  20\" 14k gold chain ...  "
      ]
     },
     "execution_count": 78,
     "metadata": {},
     "output_type": "execute_result"
    }
   ],
   "source": [
    "print(rev_bus_shop_df.shape)\n",
    "rev_bus_shop_df.head(2)"
   ]
  },
  {
   "cell_type": "code",
   "execution_count": 79,
   "id": "0e16944d",
   "metadata": {},
   "outputs": [],
   "source": [
    "# Transform text into token corpus\n",
    "# Shopping\n",
    "rev_bus_shop_df['text_transformed'] = rev_bus_shop_df['text'].apply(lambda x: text_clean(x))"
   ]
  },
  {
   "cell_type": "code",
   "execution_count": 80,
   "id": "57e44d5d",
   "metadata": {},
   "outputs": [],
   "source": [
    "# Shopping positive reviews\n",
    "rev_bus_shop_pos_df = rev_bus_shop_df[rev_bus_shop_df.stars >= 4]\n",
    "\n",
    "# Shopping negative reviews\n",
    "rev_bus_shop_neg_df = rev_bus_shop_df[rev_bus_shop_df.stars <= 2]"
   ]
  },
  {
   "cell_type": "code",
   "execution_count": 81,
   "id": "7b08f345",
   "metadata": {},
   "outputs": [
    {
     "data": {
      "text/html": [
       "<div>\n",
       "<style scoped>\n",
       "    .dataframe tbody tr th:only-of-type {\n",
       "        vertical-align: middle;\n",
       "    }\n",
       "\n",
       "    .dataframe tbody tr th {\n",
       "        vertical-align: top;\n",
       "    }\n",
       "\n",
       "    .dataframe thead th {\n",
       "        text-align: right;\n",
       "    }\n",
       "</style>\n",
       "<table border=\"1\" class=\"dataframe\">\n",
       "  <thead>\n",
       "    <tr style=\"text-align: right;\">\n",
       "      <th></th>\n",
       "      <th>review_id</th>\n",
       "      <th>business_id</th>\n",
       "      <th>stars</th>\n",
       "      <th>useful</th>\n",
       "      <th>funny</th>\n",
       "      <th>cool</th>\n",
       "      <th>text</th>\n",
       "      <th>text_transformed</th>\n",
       "    </tr>\n",
       "  </thead>\n",
       "  <tbody>\n",
       "    <tr>\n",
       "      <th>1880</th>\n",
       "      <td>ApTBT96Jo8NgPDkRbmOdyA</td>\n",
       "      <td>uMvVYRgGNXf5boolA9HXTw</td>\n",
       "      <td>1.0</td>\n",
       "      <td>0</td>\n",
       "      <td>0</td>\n",
       "      <td>0</td>\n",
       "      <td>They have forever lost my business. Ordered a ...</td>\n",
       "      <td>[forever, lost, business, ordered, ring, promi...</td>\n",
       "    </tr>\n",
       "    <tr>\n",
       "      <th>1881</th>\n",
       "      <td>H7QI9u4ffsq_sTDxIudmpg</td>\n",
       "      <td>uMvVYRgGNXf5boolA9HXTw</td>\n",
       "      <td>1.0</td>\n",
       "      <td>0</td>\n",
       "      <td>0</td>\n",
       "      <td>0</td>\n",
       "      <td>please dont go here they have bullshit gold th...</td>\n",
       "      <td>[please, dont, bullshit, gold, mixing, jeweler...</td>\n",
       "    </tr>\n",
       "    <tr>\n",
       "      <th>1882</th>\n",
       "      <td>NaY-rXE9zbOi3PVY5_OCGA</td>\n",
       "      <td>uMvVYRgGNXf5boolA9HXTw</td>\n",
       "      <td>1.0</td>\n",
       "      <td>2</td>\n",
       "      <td>0</td>\n",
       "      <td>0</td>\n",
       "      <td>I walked in today to  look at a few rings and ...</td>\n",
       "      <td>[walked, today, look, ring, possibly, purchase...</td>\n",
       "    </tr>\n",
       "    <tr>\n",
       "      <th>1883</th>\n",
       "      <td>R7vyrzcROHyNb0ULvkWtgA</td>\n",
       "      <td>uMvVYRgGNXf5boolA9HXTw</td>\n",
       "      <td>1.0</td>\n",
       "      <td>4</td>\n",
       "      <td>3</td>\n",
       "      <td>0</td>\n",
       "      <td>Bought a bracelet about 6 months ago that brok...</td>\n",
       "      <td>[bought, bracelet, month, ago, broke, twice, t...</td>\n",
       "    </tr>\n",
       "    <tr>\n",
       "      <th>1884</th>\n",
       "      <td>Dn8ZMVUWnrr7oIegVfbHrA</td>\n",
       "      <td>uMvVYRgGNXf5boolA9HXTw</td>\n",
       "      <td>1.0</td>\n",
       "      <td>0</td>\n",
       "      <td>0</td>\n",
       "      <td>0</td>\n",
       "      <td>My experience with this jeweler started out fi...</td>\n",
       "      <td>[experience, jeweler, started, fine, wanted, a...</td>\n",
       "    </tr>\n",
       "  </tbody>\n",
       "</table>\n",
       "</div>"
      ],
      "text/plain": [
       "                   review_id             business_id  stars  useful  funny  \\\n",
       "1880  ApTBT96Jo8NgPDkRbmOdyA  uMvVYRgGNXf5boolA9HXTw    1.0       0      0   \n",
       "1881  H7QI9u4ffsq_sTDxIudmpg  uMvVYRgGNXf5boolA9HXTw    1.0       0      0   \n",
       "1882  NaY-rXE9zbOi3PVY5_OCGA  uMvVYRgGNXf5boolA9HXTw    1.0       2      0   \n",
       "1883  R7vyrzcROHyNb0ULvkWtgA  uMvVYRgGNXf5boolA9HXTw    1.0       4      3   \n",
       "1884  Dn8ZMVUWnrr7oIegVfbHrA  uMvVYRgGNXf5boolA9HXTw    1.0       0      0   \n",
       "\n",
       "      cool                                               text  \\\n",
       "1880     0  They have forever lost my business. Ordered a ...   \n",
       "1881     0  please dont go here they have bullshit gold th...   \n",
       "1882     0  I walked in today to  look at a few rings and ...   \n",
       "1883     0  Bought a bracelet about 6 months ago that brok...   \n",
       "1884     0  My experience with this jeweler started out fi...   \n",
       "\n",
       "                                       text_transformed  \n",
       "1880  [forever, lost, business, ordered, ring, promi...  \n",
       "1881  [please, dont, bullshit, gold, mixing, jeweler...  \n",
       "1882  [walked, today, look, ring, possibly, purchase...  \n",
       "1883  [bought, bracelet, month, ago, broke, twice, t...  \n",
       "1884  [experience, jeweler, started, fine, wanted, a...  "
      ]
     },
     "execution_count": 81,
     "metadata": {},
     "output_type": "execute_result"
    }
   ],
   "source": [
    "rev_bus_shop_neg_df.head()"
   ]
  },
  {
   "cell_type": "code",
   "execution_count": 82,
   "id": "f8fda299",
   "metadata": {},
   "outputs": [
    {
     "data": {
      "text/plain": [
       "0"
      ]
     },
     "execution_count": 82,
     "metadata": {},
     "output_type": "execute_result"
    }
   ],
   "source": [
    "rev_bus_shop_df['text_transformed'].isnull().sum()"
   ]
  },
  {
   "cell_type": "code",
   "execution_count": 83,
   "id": "1777e2c5",
   "metadata": {},
   "outputs": [],
   "source": [
    "# Create bigrams\n",
    "# Add bigrams to documents that appear 20 times or more\n",
    "\n",
    "# shop_bigram = Phrases(rev_bus_shop_df['text_transformed'].tolist(), min_count=20)"
   ]
  },
  {
   "cell_type": "code",
   "execution_count": 84,
   "id": "15e8c4e2",
   "metadata": {},
   "outputs": [],
   "source": [
    "# rev_bus_shop_df['text_transformed'] = rev_bus_shop_df['text_transformed'].apply(lambda x: shop_bigram[x] if x is not None else x)"
   ]
  },
  {
   "cell_type": "code",
   "execution_count": 85,
   "id": "ac58153e",
   "metadata": {},
   "outputs": [
    {
     "name": "stdout",
     "output_type": "stream",
     "text": [
      "Length 135512\n",
      "Dictionary(135512 unique tokens: ['able', 'accommodate', 'accommodating', 'afternoon', 'around']...)\n",
      "Length 106426\n",
      "Dictionary(106426 unique tokens: ['able', 'accommodate', 'accommodating', 'afternoon', 'around']...)\n",
      "Length 69863\n",
      "Dictionary(69863 unique tokens: ['anklet', 'asked', 'balance', 'bracelet', 'business']...)\n"
     ]
    }
   ],
   "source": [
    "# Create dictionary for data sets\n",
    "shop_dictionary = create_dictionary(rev_bus_shop_df['text_transformed'])\n",
    "shop_pos_dictionary = create_dictionary(rev_bus_shop_pos_df['text_transformed'])\n",
    "shop_neg_dictionary = create_dictionary(rev_bus_shop_neg_df['text_transformed'])"
   ]
  },
  {
   "cell_type": "code",
   "execution_count": 86,
   "id": "fe6a7ee5",
   "metadata": {},
   "outputs": [],
   "source": [
    "# Create DTM for data sets:\n",
    "shop_doc_term_matrix = create_doc_term_matrix(corpus_dictionary=shop_dictionary, \n",
    "                                              column_with_tokens=rev_bus_shop_df['text_transformed'])\n",
    "shop_pos_doc_term_matrix = create_doc_term_matrix(corpus_dictionary=shop_pos_dictionary, \n",
    "                                              column_with_tokens=rev_bus_shop_pos_df['text_transformed'])\n",
    "shop_neg_doc_term_matrix = create_doc_term_matrix(corpus_dictionary=shop_neg_dictionary, \n",
    "                                              column_with_tokens=rev_bus_shop_neg_df['text_transformed'])"
   ]
  },
  {
   "cell_type": "code",
   "execution_count": 87,
   "id": "5d8bebdf",
   "metadata": {},
   "outputs": [],
   "source": [
    "# LDA model\n",
    "# Shopping\n",
    "shop_lda_model = construct_lda_model(doc_term_matrix=shop_doc_term_matrix,\n",
    "                                     n_cores=n_cores,\n",
    "                                     n_topics=15,\n",
    "                                     corpus_dictionary=shop_dictionary)"
   ]
  },
  {
   "cell_type": "code",
   "execution_count": 88,
   "id": "57a8a17e",
   "metadata": {},
   "outputs": [],
   "source": [
    "# Shopping positive\n",
    "shop_pos_lda_model = construct_lda_model(doc_term_matrix=shop_pos_doc_term_matrix,\n",
    "                                     n_cores=n_cores,\n",
    "                                     n_topics=10,\n",
    "                                     corpus_dictionary=shop_pos_dictionary)"
   ]
  },
  {
   "cell_type": "code",
   "execution_count": 89,
   "id": "67d53ca9",
   "metadata": {},
   "outputs": [],
   "source": [
    "# Shopping negative\n",
    "shop_neg_lda_model = construct_lda_model(doc_term_matrix=shop_neg_doc_term_matrix,\n",
    "                                     n_cores=n_cores,\n",
    "                                     n_topics=7,\n",
    "                                     corpus_dictionary=shop_neg_dictionary)"
   ]
  },
  {
   "cell_type": "code",
   "execution_count": 90,
   "id": "c04754e4",
   "metadata": {},
   "outputs": [
    {
     "name": "stdout",
     "output_type": "stream",
     "text": [
      "\n",
      "Coherence Score:  -2.3074049134550396\n",
      "\n",
      "Coherence Score:  -2.2146654365144847\n",
      "\n",
      "Coherence Score:  -1.8018923014384218\n"
     ]
    },
    {
     "data": {
      "text/plain": [
       "-1.8018923014384218"
      ]
     },
     "execution_count": 90,
     "metadata": {},
     "output_type": "execute_result"
    }
   ],
   "source": [
    "# Coherence score\n",
    "coh_score(lda_model=shop_lda_model, doc_term_matrix=shop_doc_term_matrix)\n",
    "coh_score(lda_model=shop_pos_lda_model, doc_term_matrix=shop_pos_doc_term_matrix)\n",
    "coh_score(lda_model=shop_neg_lda_model, doc_term_matrix=shop_neg_doc_term_matrix)"
   ]
  },
  {
   "cell_type": "code",
   "execution_count": 91,
   "id": "4cdcf1b1",
   "metadata": {},
   "outputs": [],
   "source": [
    "# Top 10 words in topic\n",
    "shop_topic_top10_words = get_topic_top10_words(n_topics=15, lda_model=shop_lda_model, corpus_dictionary=shop_dictionary)\n",
    "shop_pos_topic_top10_words = get_topic_top10_words(n_topics=10, lda_model=shop_pos_lda_model, corpus_dictionary=shop_pos_dictionary)\n",
    "shop_neg_topic_top10_words = get_topic_top10_words(n_topics=7, lda_model=shop_neg_lda_model, corpus_dictionary=shop_neg_dictionary)"
   ]
  },
  {
   "cell_type": "code",
   "execution_count": 92,
   "id": "6f748527",
   "metadata": {},
   "outputs": [
    {
     "data": {
      "text/html": [
       "<div>\n",
       "<style scoped>\n",
       "    .dataframe tbody tr th:only-of-type {\n",
       "        vertical-align: middle;\n",
       "    }\n",
       "\n",
       "    .dataframe tbody tr th {\n",
       "        vertical-align: top;\n",
       "    }\n",
       "\n",
       "    .dataframe thead th {\n",
       "        text-align: right;\n",
       "    }\n",
       "</style>\n",
       "<table border=\"1\" class=\"dataframe\">\n",
       "  <thead>\n",
       "    <tr style=\"text-align: right;\">\n",
       "      <th></th>\n",
       "      <th>topic 1</th>\n",
       "      <th>topic 2</th>\n",
       "      <th>topic 3</th>\n",
       "      <th>topic 4</th>\n",
       "      <th>topic 5</th>\n",
       "      <th>topic 6</th>\n",
       "      <th>topic 7</th>\n",
       "      <th>topic 8</th>\n",
       "      <th>topic 9</th>\n",
       "      <th>topic 10</th>\n",
       "      <th>topic 11</th>\n",
       "      <th>topic 12</th>\n",
       "      <th>topic 13</th>\n",
       "      <th>topic 14</th>\n",
       "      <th>topic 15</th>\n",
       "    </tr>\n",
       "  </thead>\n",
       "  <tbody>\n",
       "    <tr>\n",
       "      <th>0</th>\n",
       "      <td>dress</td>\n",
       "      <td>hair</td>\n",
       "      <td>line</td>\n",
       "      <td>shirt</td>\n",
       "      <td>food</td>\n",
       "      <td>price</td>\n",
       "      <td>glass</td>\n",
       "      <td>food</td>\n",
       "      <td>call</td>\n",
       "      <td>flower</td>\n",
       "      <td>mattress</td>\n",
       "      <td>work</td>\n",
       "      <td>cake</td>\n",
       "      <td>book</td>\n",
       "      <td>product</td>\n",
       "    </tr>\n",
       "    <tr>\n",
       "      <th>1</th>\n",
       "      <td>bike</td>\n",
       "      <td>cut</td>\n",
       "      <td>location</td>\n",
       "      <td>look</td>\n",
       "      <td>good</td>\n",
       "      <td>good</td>\n",
       "      <td>eye</td>\n",
       "      <td>good</td>\n",
       "      <td>day</td>\n",
       "      <td>plant</td>\n",
       "      <td>mask</td>\n",
       "      <td>recommend</td>\n",
       "      <td>chocolate</td>\n",
       "      <td>find</td>\n",
       "      <td>phone</td>\n",
       "    </tr>\n",
       "    <tr>\n",
       "      <th>2</th>\n",
       "      <td>experience</td>\n",
       "      <td>asked</td>\n",
       "      <td>people</td>\n",
       "      <td>fabric</td>\n",
       "      <td>coffee</td>\n",
       "      <td>selection</td>\n",
       "      <td>appointment</td>\n",
       "      <td>wine</td>\n",
       "      <td>never</td>\n",
       "      <td>day</td>\n",
       "      <td>employee</td>\n",
       "      <td>job</td>\n",
       "      <td>orleans</td>\n",
       "      <td>love</td>\n",
       "      <td>screen</td>\n",
       "    </tr>\n",
       "    <tr>\n",
       "      <th>3</th>\n",
       "      <td>ring</td>\n",
       "      <td>salon</td>\n",
       "      <td>employee</td>\n",
       "      <td>size</td>\n",
       "      <td>love</td>\n",
       "      <td>find</td>\n",
       "      <td>frame</td>\n",
       "      <td>beer</td>\n",
       "      <td>order</td>\n",
       "      <td>beautiful</td>\n",
       "      <td>furniture</td>\n",
       "      <td>professional</td>\n",
       "      <td>candy</td>\n",
       "      <td>gift</td>\n",
       "      <td>apple</td>\n",
       "    </tr>\n",
       "    <tr>\n",
       "      <th>4</th>\n",
       "      <td>helpful</td>\n",
       "      <td>rude</td>\n",
       "      <td>minute</td>\n",
       "      <td>little</td>\n",
       "      <td>market</td>\n",
       "      <td>staff</td>\n",
       "      <td>doctor</td>\n",
       "      <td>sandwich</td>\n",
       "      <td>phone</td>\n",
       "      <td>arrangement</td>\n",
       "      <td>bed</td>\n",
       "      <td>highly</td>\n",
       "      <td>beignet</td>\n",
       "      <td>selection</td>\n",
       "      <td>best</td>\n",
       "    </tr>\n",
       "    <tr>\n",
       "      <th>5</th>\n",
       "      <td>wedding</td>\n",
       "      <td>never</td>\n",
       "      <td>parking</td>\n",
       "      <td>know</td>\n",
       "      <td>fresh</td>\n",
       "      <td>mall</td>\n",
       "      <td>year</td>\n",
       "      <td>bar</td>\n",
       "      <td>week</td>\n",
       "      <td>wedding</td>\n",
       "      <td>home</td>\n",
       "      <td>experience</td>\n",
       "      <td>good</td>\n",
       "      <td>art</td>\n",
       "      <td>tire</td>\n",
       "    </tr>\n",
       "    <tr>\n",
       "      <th>6</th>\n",
       "      <td>shoe</td>\n",
       "      <td>experience</td>\n",
       "      <td>wait</td>\n",
       "      <td>girl</td>\n",
       "      <td>tea</td>\n",
       "      <td>nice</td>\n",
       "      <td>staff</td>\n",
       "      <td>cigar</td>\n",
       "      <td>company</td>\n",
       "      <td>florist</td>\n",
       "      <td>room</td>\n",
       "      <td>friendly</td>\n",
       "      <td>sweet</td>\n",
       "      <td>little</td>\n",
       "      <td>help</td>\n",
       "    </tr>\n",
       "    <tr>\n",
       "      <th>7</th>\n",
       "      <td>looking</td>\n",
       "      <td>walked</td>\n",
       "      <td>cashier</td>\n",
       "      <td>dog</td>\n",
       "      <td>lot</td>\n",
       "      <td>lot</td>\n",
       "      <td>prescription</td>\n",
       "      <td>drink</td>\n",
       "      <td>manager</td>\n",
       "      <td>garden</td>\n",
       "      <td>year</td>\n",
       "      <td>amazing</td>\n",
       "      <td>well</td>\n",
       "      <td>see</td>\n",
       "      <td>repair</td>\n",
       "    </tr>\n",
       "    <tr>\n",
       "      <th>8</th>\n",
       "      <td>price</td>\n",
       "      <td>look</td>\n",
       "      <td>long</td>\n",
       "      <td>room</td>\n",
       "      <td>little</td>\n",
       "      <td>sale</td>\n",
       "      <td>contact</td>\n",
       "      <td>restaurant</td>\n",
       "      <td>delivery</td>\n",
       "      <td>tree</td>\n",
       "      <td>way</td>\n",
       "      <td>guy</td>\n",
       "      <td>cafe</td>\n",
       "      <td>fun</td>\n",
       "      <td>helpful</td>\n",
       "    </tr>\n",
       "    <tr>\n",
       "      <th>9</th>\n",
       "      <td>staff</td>\n",
       "      <td>color</td>\n",
       "      <td>open</td>\n",
       "      <td>first</td>\n",
       "      <td>best</td>\n",
       "      <td>well</td>\n",
       "      <td>exam</td>\n",
       "      <td>ordered</td>\n",
       "      <td>business</td>\n",
       "      <td>order</td>\n",
       "      <td>know</td>\n",
       "      <td>thank</td>\n",
       "      <td>nola</td>\n",
       "      <td>staff</td>\n",
       "      <td>guy</td>\n",
       "    </tr>\n",
       "  </tbody>\n",
       "</table>\n",
       "</div>"
      ],
      "text/plain": [
       "      topic 1     topic 2   topic 3 topic 4 topic 5    topic 6       topic 7  \\\n",
       "0       dress        hair      line   shirt    food      price         glass   \n",
       "1        bike         cut  location    look    good       good           eye   \n",
       "2  experience       asked    people  fabric  coffee  selection   appointment   \n",
       "3        ring       salon  employee    size    love       find         frame   \n",
       "4     helpful        rude    minute  little  market      staff        doctor   \n",
       "5     wedding       never   parking    know   fresh       mall          year   \n",
       "6        shoe  experience      wait    girl     tea       nice         staff   \n",
       "7     looking      walked   cashier     dog     lot        lot  prescription   \n",
       "8       price        look      long    room  little       sale       contact   \n",
       "9       staff       color      open   first    best       well          exam   \n",
       "\n",
       "      topic 8   topic 9     topic 10   topic 11      topic 12   topic 13  \\\n",
       "0        food      call       flower   mattress          work       cake   \n",
       "1        good       day        plant       mask     recommend  chocolate   \n",
       "2        wine     never          day   employee           job    orleans   \n",
       "3        beer     order    beautiful  furniture  professional      candy   \n",
       "4    sandwich     phone  arrangement        bed        highly    beignet   \n",
       "5         bar      week      wedding       home    experience       good   \n",
       "6       cigar   company      florist       room      friendly      sweet   \n",
       "7       drink   manager       garden       year       amazing       well   \n",
       "8  restaurant  delivery         tree        way           guy       cafe   \n",
       "9     ordered  business        order       know         thank       nola   \n",
       "\n",
       "    topic 14 topic 15  \n",
       "0       book  product  \n",
       "1       find    phone  \n",
       "2       love   screen  \n",
       "3       gift    apple  \n",
       "4  selection     best  \n",
       "5        art     tire  \n",
       "6     little     help  \n",
       "7        see   repair  \n",
       "8        fun  helpful  \n",
       "9      staff      guy  "
      ]
     },
     "execution_count": 92,
     "metadata": {},
     "output_type": "execute_result"
    }
   ],
   "source": [
    "shop_topic_top10_words"
   ]
  },
  {
   "cell_type": "code",
   "execution_count": 93,
   "id": "470e2f89",
   "metadata": {},
   "outputs": [
    {
     "data": {
      "text/html": [
       "<div>\n",
       "<style scoped>\n",
       "    .dataframe tbody tr th:only-of-type {\n",
       "        vertical-align: middle;\n",
       "    }\n",
       "\n",
       "    .dataframe tbody tr th {\n",
       "        vertical-align: top;\n",
       "    }\n",
       "\n",
       "    .dataframe thead th {\n",
       "        text-align: right;\n",
       "    }\n",
       "</style>\n",
       "<table border=\"1\" class=\"dataframe\">\n",
       "  <thead>\n",
       "    <tr style=\"text-align: right;\">\n",
       "      <th></th>\n",
       "      <th>topic 1</th>\n",
       "      <th>topic 2</th>\n",
       "      <th>topic 3</th>\n",
       "      <th>topic 4</th>\n",
       "      <th>topic 5</th>\n",
       "      <th>topic 6</th>\n",
       "      <th>topic 7</th>\n",
       "      <th>topic 8</th>\n",
       "      <th>topic 9</th>\n",
       "      <th>topic 10</th>\n",
       "    </tr>\n",
       "  </thead>\n",
       "  <tbody>\n",
       "    <tr>\n",
       "      <th>0</th>\n",
       "      <td>staff</td>\n",
       "      <td>dress</td>\n",
       "      <td>lot</td>\n",
       "      <td>hair</td>\n",
       "      <td>find</td>\n",
       "      <td>food</td>\n",
       "      <td>art</td>\n",
       "      <td>book</td>\n",
       "      <td>bike</td>\n",
       "      <td>day</td>\n",
       "    </tr>\n",
       "    <tr>\n",
       "      <th>1</th>\n",
       "      <td>friendly</td>\n",
       "      <td>recommend</td>\n",
       "      <td>food</td>\n",
       "      <td>salon</td>\n",
       "      <td>price</td>\n",
       "      <td>good</td>\n",
       "      <td>ring</td>\n",
       "      <td>selection</td>\n",
       "      <td>price</td>\n",
       "      <td>experience</td>\n",
       "    </tr>\n",
       "    <tr>\n",
       "      <th>2</th>\n",
       "      <td>love</td>\n",
       "      <td>flower</td>\n",
       "      <td>good</td>\n",
       "      <td>cut</td>\n",
       "      <td>love</td>\n",
       "      <td>coffee</td>\n",
       "      <td>piece</td>\n",
       "      <td>love</td>\n",
       "      <td>guy</td>\n",
       "      <td>work</td>\n",
       "    </tr>\n",
       "    <tr>\n",
       "      <th>3</th>\n",
       "      <td>helpful</td>\n",
       "      <td>experience</td>\n",
       "      <td>parking</td>\n",
       "      <td>job</td>\n",
       "      <td>selection</td>\n",
       "      <td>delicious</td>\n",
       "      <td>jewelry</td>\n",
       "      <td>good</td>\n",
       "      <td>good</td>\n",
       "      <td>recommend</td>\n",
       "    </tr>\n",
       "    <tr>\n",
       "      <th>4</th>\n",
       "      <td>price</td>\n",
       "      <td>wedding</td>\n",
       "      <td>mall</td>\n",
       "      <td>best</td>\n",
       "      <td>good</td>\n",
       "      <td>love</td>\n",
       "      <td>museum</td>\n",
       "      <td>game</td>\n",
       "      <td>day</td>\n",
       "      <td>price</td>\n",
       "    </tr>\n",
       "    <tr>\n",
       "      <th>5</th>\n",
       "      <td>product</td>\n",
       "      <td>amazing</td>\n",
       "      <td>area</td>\n",
       "      <td>love</td>\n",
       "      <td>sale</td>\n",
       "      <td>sandwich</td>\n",
       "      <td>work</td>\n",
       "      <td>staff</td>\n",
       "      <td>work</td>\n",
       "      <td>needed</td>\n",
       "    </tr>\n",
       "    <tr>\n",
       "      <th>6</th>\n",
       "      <td>good</td>\n",
       "      <td>day</td>\n",
       "      <td>find</td>\n",
       "      <td>amazing</td>\n",
       "      <td>shoe</td>\n",
       "      <td>fresh</td>\n",
       "      <td>beautiful</td>\n",
       "      <td>nice</td>\n",
       "      <td>phone</td>\n",
       "      <td>professional</td>\n",
       "    </tr>\n",
       "    <tr>\n",
       "      <th>7</th>\n",
       "      <td>selection</td>\n",
       "      <td>highly</td>\n",
       "      <td>people</td>\n",
       "      <td>move</td>\n",
       "      <td>well</td>\n",
       "      <td>cheese</td>\n",
       "      <td>see</td>\n",
       "      <td>cigar</td>\n",
       "      <td>repair</td>\n",
       "      <td>order</td>\n",
       "    </tr>\n",
       "    <tr>\n",
       "      <th>8</th>\n",
       "      <td>nice</td>\n",
       "      <td>staff</td>\n",
       "      <td>around</td>\n",
       "      <td>stylist</td>\n",
       "      <td>looking</td>\n",
       "      <td>best</td>\n",
       "      <td>tour</td>\n",
       "      <td>friendly</td>\n",
       "      <td>know</td>\n",
       "      <td>delivery</td>\n",
       "    </tr>\n",
       "    <tr>\n",
       "      <th>9</th>\n",
       "      <td>well</td>\n",
       "      <td>eye</td>\n",
       "      <td>nice</td>\n",
       "      <td>nice</td>\n",
       "      <td>nice</td>\n",
       "      <td>amazing</td>\n",
       "      <td>love</td>\n",
       "      <td>music</td>\n",
       "      <td>year</td>\n",
       "      <td>home</td>\n",
       "    </tr>\n",
       "  </tbody>\n",
       "</table>\n",
       "</div>"
      ],
      "text/plain": [
       "     topic 1     topic 2  topic 3  topic 4    topic 5    topic 6    topic 7  \\\n",
       "0      staff       dress      lot     hair       find       food        art   \n",
       "1   friendly   recommend     food    salon      price       good       ring   \n",
       "2       love      flower     good      cut       love     coffee      piece   \n",
       "3    helpful  experience  parking      job  selection  delicious    jewelry   \n",
       "4      price     wedding     mall     best       good       love     museum   \n",
       "5    product     amazing     area     love       sale   sandwich       work   \n",
       "6       good         day     find  amazing       shoe      fresh  beautiful   \n",
       "7  selection      highly   people     move       well     cheese        see   \n",
       "8       nice       staff   around  stylist    looking       best       tour   \n",
       "9       well         eye     nice     nice       nice    amazing       love   \n",
       "\n",
       "     topic 8 topic 9      topic 10  \n",
       "0       book    bike           day  \n",
       "1  selection   price    experience  \n",
       "2       love     guy          work  \n",
       "3       good    good     recommend  \n",
       "4       game     day         price  \n",
       "5      staff    work        needed  \n",
       "6       nice   phone  professional  \n",
       "7      cigar  repair         order  \n",
       "8   friendly    know      delivery  \n",
       "9      music    year          home  "
      ]
     },
     "execution_count": 93,
     "metadata": {},
     "output_type": "execute_result"
    }
   ],
   "source": [
    "shop_pos_topic_top10_words"
   ]
  },
  {
   "cell_type": "code",
   "execution_count": 94,
   "id": "4f40bea7",
   "metadata": {},
   "outputs": [
    {
     "data": {
      "text/html": [
       "<div>\n",
       "<style scoped>\n",
       "    .dataframe tbody tr th:only-of-type {\n",
       "        vertical-align: middle;\n",
       "    }\n",
       "\n",
       "    .dataframe tbody tr th {\n",
       "        vertical-align: top;\n",
       "    }\n",
       "\n",
       "    .dataframe thead th {\n",
       "        text-align: right;\n",
       "    }\n",
       "</style>\n",
       "<table border=\"1\" class=\"dataframe\">\n",
       "  <thead>\n",
       "    <tr style=\"text-align: right;\">\n",
       "      <th></th>\n",
       "      <th>topic 1</th>\n",
       "      <th>topic 2</th>\n",
       "      <th>topic 3</th>\n",
       "      <th>topic 4</th>\n",
       "      <th>topic 5</th>\n",
       "      <th>topic 6</th>\n",
       "      <th>topic 7</th>\n",
       "    </tr>\n",
       "  </thead>\n",
       "  <tbody>\n",
       "    <tr>\n",
       "      <th>0</th>\n",
       "      <td>employee</td>\n",
       "      <td>dress</td>\n",
       "      <td>order</td>\n",
       "      <td>day</td>\n",
       "      <td>phone</td>\n",
       "      <td>call</td>\n",
       "      <td>price</td>\n",
       "    </tr>\n",
       "    <tr>\n",
       "      <th>1</th>\n",
       "      <td>people</td>\n",
       "      <td>know</td>\n",
       "      <td>day</td>\n",
       "      <td>never</td>\n",
       "      <td>never</td>\n",
       "      <td>business</td>\n",
       "      <td>food</td>\n",
       "    </tr>\n",
       "    <tr>\n",
       "      <th>2</th>\n",
       "      <td>line</td>\n",
       "      <td>room</td>\n",
       "      <td>week</td>\n",
       "      <td>call</td>\n",
       "      <td>minute</td>\n",
       "      <td>day</td>\n",
       "      <td>good</td>\n",
       "    </tr>\n",
       "    <tr>\n",
       "      <th>3</th>\n",
       "      <td>asked</td>\n",
       "      <td>never</td>\n",
       "      <td>never</td>\n",
       "      <td>week</td>\n",
       "      <td>call</td>\n",
       "      <td>company</td>\n",
       "      <td>know</td>\n",
       "    </tr>\n",
       "    <tr>\n",
       "      <th>4</th>\n",
       "      <td>around</td>\n",
       "      <td>people</td>\n",
       "      <td>furniture</td>\n",
       "      <td>work</td>\n",
       "      <td>day</td>\n",
       "      <td>sale</td>\n",
       "      <td>never</td>\n",
       "    </tr>\n",
       "    <tr>\n",
       "      <th>5</th>\n",
       "      <td>staff</td>\n",
       "      <td>location</td>\n",
       "      <td>asked</td>\n",
       "      <td>dress</td>\n",
       "      <td>hour</td>\n",
       "      <td>phone</td>\n",
       "      <td>going</td>\n",
       "    </tr>\n",
       "    <tr>\n",
       "      <th>6</th>\n",
       "      <td>experience</td>\n",
       "      <td>good</td>\n",
       "      <td>two</td>\n",
       "      <td>flower</td>\n",
       "      <td>appointment</td>\n",
       "      <td>never</td>\n",
       "      <td>people</td>\n",
       "    </tr>\n",
       "    <tr>\n",
       "      <th>7</th>\n",
       "      <td>help</td>\n",
       "      <td>look</td>\n",
       "      <td>delivery</td>\n",
       "      <td>order</td>\n",
       "      <td>asked</td>\n",
       "      <td>delivery</td>\n",
       "      <td>find</td>\n",
       "    </tr>\n",
       "    <tr>\n",
       "      <th>8</th>\n",
       "      <td>cashier</td>\n",
       "      <td>asked</td>\n",
       "      <td>call</td>\n",
       "      <td>give</td>\n",
       "      <td>hair</td>\n",
       "      <td>manager</td>\n",
       "      <td>better</td>\n",
       "    </tr>\n",
       "    <tr>\n",
       "      <th>9</th>\n",
       "      <td>rude</td>\n",
       "      <td>way</td>\n",
       "      <td>another</td>\n",
       "      <td>first</td>\n",
       "      <td>prescription</td>\n",
       "      <td>money</td>\n",
       "      <td>much</td>\n",
       "    </tr>\n",
       "  </tbody>\n",
       "</table>\n",
       "</div>"
      ],
      "text/plain": [
       "      topic 1   topic 2    topic 3 topic 4       topic 5   topic 6 topic 7\n",
       "0    employee     dress      order     day         phone      call   price\n",
       "1      people      know        day   never         never  business    food\n",
       "2        line      room       week    call        minute       day    good\n",
       "3       asked     never      never    week          call   company    know\n",
       "4      around    people  furniture    work           day      sale   never\n",
       "5       staff  location      asked   dress          hour     phone   going\n",
       "6  experience      good        two  flower   appointment     never  people\n",
       "7        help      look   delivery   order         asked  delivery    find\n",
       "8     cashier     asked       call    give          hair   manager  better\n",
       "9        rude       way    another   first  prescription     money    much"
      ]
     },
     "execution_count": 94,
     "metadata": {},
     "output_type": "execute_result"
    }
   ],
   "source": [
    "shop_neg_topic_top10_words"
   ]
  }
 ],
 "metadata": {
  "kernelspec": {
   "display_name": "Python 3 (ipykernel)",
   "language": "python",
   "name": "python3"
  },
  "language_info": {
   "codemirror_mode": {
    "name": "ipython",
    "version": 3
   },
   "file_extension": ".py",
   "mimetype": "text/x-python",
   "name": "python",
   "nbconvert_exporter": "python",
   "pygments_lexer": "ipython3",
   "version": "3.9.12"
  }
 },
 "nbformat": 4,
 "nbformat_minor": 5
}
